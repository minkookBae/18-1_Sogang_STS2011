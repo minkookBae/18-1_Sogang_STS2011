{
 "cells": [
  {
   "cell_type": "code",
   "execution_count": 2,
   "metadata": {},
   "outputs": [
    {
     "name": "stdout",
     "output_type": "stream",
     "text": [
      "Automatic pdb calling has been turned OFF\n"
     ]
    }
   ],
   "source": [
    "%pdb"
   ]
  },
  {
   "cell_type": "code",
   "execution_count": 3,
   "metadata": {},
   "outputs": [
    {
     "name": "stdout",
     "output_type": "stream",
     "text": [
      "Writing fibonacci.py\n"
     ]
    }
   ],
   "source": [
    "%%writefile fibonacci.py\n",
    "\n",
    "def fibo(n):\n",
    "    if n==1:\n",
    "        return 1\n",
    "    elif n==2:\n",
    "        return 1\n",
    "    else:\n",
    "        return fibo(n-1)+fibo(n-2)"
   ]
  },
  {
   "cell_type": "code",
   "execution_count": 4,
   "metadata": {},
   "outputs": [
    {
     "data": {
      "text/plain": [
       "55"
      ]
     },
     "execution_count": 4,
     "metadata": {},
     "output_type": "execute_result"
    }
   ],
   "source": [
    "from fibonacci import *\n",
    "\n",
    "fibo(10)"
   ]
  },
  {
   "cell_type": "code",
   "execution_count": 5,
   "metadata": {
    "scrolled": true
   },
   "outputs": [
    {
     "name": "stdout",
     "output_type": "stream",
     "text": [
      " C 드라이브의 볼륨: OS\n",
      " 볼륨 일련 번호: E2D6-E449\n",
      "\n",
      " C:\\Users\\alsrn\\pycharm_workspace\\기초응용소프트웨어프로그래밍 디렉터리\n",
      "\n",
      "2018-03-14  오전 10:37    <DIR>          .\n",
      "2018-03-14  오전 10:37    <DIR>          ..\n",
      "2018-03-14  오전 10:35    <DIR>          .ipynb_checkpoints\n",
      "2018-03-14  오전 10:36    <DIR>          __pycache__\n",
      "2018-03-14  오전 10:36               127 fibonacci.py\n",
      "2018-03-07  오전 10:59               110 matplolib.py\n",
      "2018-03-12  오전 09:26                 8 nameA.py\n",
      "2018-03-12  오전 10:02            30,129 Prac_identifer.ipynb\n",
      "2018-03-05  오후 03:31                10 Prac1.py\n",
      "2018-03-07  오전 10:48               838 TEST_1.ipynb\n",
      "2018-03-07  오전 11:09             1,372 TEST_2_matlab.ipynb\n",
      "2018-03-14  오전 10:37             1,650 Untitled.ipynb\n",
      "2018-03-12  오전 09:28               110 usingNametesy.py\n",
      "               9개 파일              34,354 바이트\n",
      "               4개 디렉터리  415,695,716,352 바이트 남음\n"
     ]
    }
   ],
   "source": [
    "%ls"
   ]
  },
  {
   "cell_type": "code",
   "execution_count": 6,
   "metadata": {},
   "outputs": [
    {
     "data": {
      "text/plain": [
       "'C:\\\\Users\\\\alsrn\\\\pycharm_workspace\\\\기초응용소프트웨어프로그래밍'"
      ]
     },
     "execution_count": 6,
     "metadata": {},
     "output_type": "execute_result"
    }
   ],
   "source": [
    "%pwd"
   ]
  },
  {
   "cell_type": "code",
   "execution_count": 7,
   "metadata": {
    "collapsed": true
   },
   "outputs": [],
   "source": [
    "%magic"
   ]
  },
  {
   "cell_type": "code",
   "execution_count": 9,
   "metadata": {},
   "outputs": [
    {
     "name": "stdout",
     "output_type": "stream",
     "text": [
      " C 드라이브의 볼륨: OS\n",
      " 볼륨 일련 번호: E2D6-E449\n",
      "\n",
      " C:\\Users\\alsrn\\pycharm_workspace\\기초응용소프트웨어프로그래밍 디렉터리\n",
      "\n",
      "2018-03-14  오전 10:41    <DIR>          .\n",
      "2018-03-14  오전 10:41    <DIR>          ..\n",
      "2018-03-14  오전 10:35    <DIR>          .ipynb_checkpoints\n",
      "2018-03-14  오전 10:36    <DIR>          __pycache__\n",
      "2018-03-14  오전 10:36               127 fibonacci.py\n",
      "2018-03-07  오전 10:59               110 matplolib.py\n",
      "2018-03-12  오전 09:26                 8 nameA.py\n",
      "2018-03-12  오전 10:02            30,129 Prac_identifer.ipynb\n",
      "2018-03-05  오후 03:31                10 Prac1.py\n",
      "2018-03-07  오전 10:48               838 TEST_1.ipynb\n",
      "2018-03-07  오전 11:09             1,372 TEST_2_matlab.ipynb\n",
      "2018-03-14  오전 10:41             3,665 Untitled.ipynb\n",
      "2018-03-12  오전 09:28               110 usingNametesy.py\n",
      "               9개 파일              36,369 바이트\n",
      "               4개 디렉터리  415,694,929,920 바이트 남음\n"
     ]
    }
   ],
   "source": [
    "%ls"
   ]
  },
  {
   "cell_type": "code",
   "execution_count": 10,
   "metadata": {},
   "outputs": [
    {
     "name": "stdout",
     "output_type": "stream",
     "text": [
      "Writing square_cube.py\n"
     ]
    }
   ],
   "source": [
    "%%writefile square_cube.py\n",
    "\n",
    "def square(x):\n",
    "    return x**2\n",
    "\n",
    "def cube(x):\n",
    "    return x**3"
   ]
  },
  {
   "cell_type": "code",
   "execution_count": 20,
   "metadata": {},
   "outputs": [
    {
     "name": "stdout",
     "output_type": "stream",
     "text": [
      "4\n",
      "8\n",
      "cube 8\n",
      "square 4\n"
     ]
    }
   ],
   "source": [
    "from square_cube import *\n",
    "\n",
    "funcs = {\n",
    "    'square' : square,\n",
    "    'cube' : cube,\n",
    "}\n",
    "\n",
    "x =2\n",
    "\n",
    "print(square(x))\n",
    "print(cube(x))\n",
    "\n",
    "\n",
    "\n",
    "for func in sorted(funcs):\n",
    "    print(func, funcs[func](x))\n"
   ]
  },
  {
   "cell_type": "code",
   "execution_count": 22,
   "metadata": {},
   "outputs": [
    {
     "name": "stdout",
     "output_type": "stream",
     "text": [
      "Once deleted, variables cannot be recovered. Proceed (y/[n])? y\n"
     ]
    }
   ],
   "source": [
    "%reset"
   ]
  },
  {
   "cell_type": "code",
   "execution_count": 16,
   "metadata": {},
   "outputs": [
    {
     "name": "stdout",
     "output_type": "stream",
     "text": [
      "Interactive namespace is empty.\n"
     ]
    }
   ],
   "source": [
    "%whos"
   ]
  },
  {
   "cell_type": "code",
   "execution_count": 17,
   "metadata": {
    "collapsed": true
   },
   "outputs": [],
   "source": [
    "a = 5\n"
   ]
  },
  {
   "cell_type": "code",
   "execution_count": 23,
   "metadata": {},
   "outputs": [
    {
     "name": "stdout",
     "output_type": "stream",
     "text": [
      "Interactive namespace is empty.\n"
     ]
    }
   ],
   "source": [
    "%whos"
   ]
  },
  {
   "cell_type": "code",
   "execution_count": 24,
   "metadata": {},
   "outputs": [
    {
     "name": "stdout",
     "output_type": "stream",
     "text": [
      "%pdb\n",
      "%pdb\n",
      "%%writefile fibonacci.py\n",
      "\n",
      "def fibo(n):\n",
      "    if n==1:\n",
      "        return 1\n",
      "    elif n==2:\n",
      "        return 1\n",
      "    else:\n",
      "        return fibo(n-1)+fibo(n-2)\n",
      "from fibonacci import *\n",
      "\n",
      "fibo(10)\n",
      "%ls\n",
      "%pwd\n",
      "%magic\n",
      "%ls\n",
      "%ls\n",
      "%%writefile square_cube.py\n",
      "\n",
      "def square(x):\n",
      "    return x**2\n",
      "\n",
      "def cube(x):\n",
      "    return x**3\n",
      "funcs = {\n",
      "    'square' : square,\n",
      "    'cube' : cube\n",
      "}\n",
      "\n",
      "x =2\n",
      "\n",
      "print(square(x))\n",
      "print(cube(x))\n",
      "\n",
      "from square_cube import *\n",
      "\n",
      "for func in sorted(funcs):\n",
      "    print(func, funcs[func](x))\n",
      "funcs = {\n",
      "    'square' : square,\n",
      "    'cube' : cube,\n",
      "}\n",
      "\n",
      "x =2\n",
      "\n",
      "print(square(x))\n",
      "print(cube(x))\n",
      "\n",
      "from square_cube import *\n",
      "\n",
      "for func in sorted(funcs):\n",
      "    print(func, funcs[func](x))\n",
      "\n",
      "funcs = {\n",
      "    'square' : square,\n",
      "    'cube' : cube,\n",
      "}\n",
      "\n",
      "x =2\n",
      "\n",
      "print(square(x))\n",
      "print(cube(x))\n",
      "\n",
      "\n",
      "\n",
      "for func in sorted(funcs):\n",
      "    print(func, funcs[func](x))\n",
      "from square_cube import *\n",
      "funcs = {\n",
      "    'square' : square,\n",
      "    'cube' : cube,\n",
      "}\n",
      "\n",
      "x =2\n",
      "\n",
      "print(square(x))\n",
      "print(cube(x))\n",
      "\n",
      "\n",
      "\n",
      "for func in sorted(funcs):\n",
      "    print(func, funcs[func](x))\n",
      "%reset\n",
      "%whos\n",
      "a = 5\n",
      "%whos\n",
      "from square_cube import *\n",
      "\n",
      "funcs = {\n",
      "    'square' : square,\n",
      "    'cube' : cube,\n",
      "}\n",
      "\n",
      "x =2\n",
      "\n",
      "print(square(x))\n",
      "print(cube(x))\n",
      "\n",
      "\n",
      "\n",
      "for func in sorted(funcs):\n",
      "    print(func, funcs[func](x))\n",
      "    \n",
      "    \n",
      "%whos\n",
      "from square_cube import *\n",
      "\n",
      "funcs = {\n",
      "    'square' : square,\n",
      "    'cube' : cube,\n",
      "}\n",
      "\n",
      "x =2\n",
      "\n",
      "print(square(x))\n",
      "print(cube(x))\n",
      "\n",
      "\n",
      "\n",
      "for func in sorted(funcs):\n",
      "    print(func, funcs[func](x))\n",
      "%whos\n",
      "%reset\n",
      "%whos\n",
      "%history\n"
     ]
    }
   ],
   "source": [
    "%history"
   ]
  },
  {
   "cell_type": "code",
   "execution_count": 25,
   "metadata": {
    "collapsed": true
   },
   "outputs": [],
   "source": [
    "import numpy as np"
   ]
  },
  {
   "cell_type": "code",
   "execution_count": 26,
   "metadata": {},
   "outputs": [
    {
     "ename": "SyntaxError",
     "evalue": "invalid syntax (matplolib.py, line 3)",
     "traceback": [
      "Traceback \u001b[1;36m(most recent call last)\u001b[0m:\n",
      "  File \u001b[0;32m\"C:\\Users\\alsrn\\AppData\\Local\\Continuum\\anaconda3\\lib\\site-packages\\IPython\\core\\interactiveshell.py\"\u001b[0m, line \u001b[0;32m2862\u001b[0m, in \u001b[0;35mrun_code\u001b[0m\n    exec(code_obj, self.user_global_ns, self.user_ns)\n",
      "\u001b[1;36m  File \u001b[1;32m\"<ipython-input-26-bb30530a0108>\"\u001b[1;36m, line \u001b[1;32m1\u001b[1;36m, in \u001b[1;35m<module>\u001b[1;36m\u001b[0m\n\u001b[1;33m    import matplolib.pyplot as plt\u001b[0m\n",
      "\u001b[1;36m  File \u001b[1;32m\"C:\\Users\\alsrn\\pycharm_workspace\\기초응용소프트웨어프로그래밍\\matplolib.py\"\u001b[1;36m, line \u001b[1;32m3\u001b[0m\n\u001b[1;33m    %matplotlib notebook\u001b[0m\n\u001b[1;37m    ^\u001b[0m\n\u001b[1;31mSyntaxError\u001b[0m\u001b[1;31m:\u001b[0m invalid syntax\n"
     ],
     "output_type": "error"
    }
   ],
   "source": [
    "import matplolib.pyplot as plt"
   ]
  },
  {
   "cell_type": "code",
   "execution_count": 27,
   "metadata": {},
   "outputs": [
    {
     "name": "stdout",
     "output_type": "stream",
     "text": [
      "Once deleted, variables cannot be recovered. Proceed (y/[n])? y\n"
     ]
    }
   ],
   "source": [
    "%reset"
   ]
  },
  {
   "cell_type": "code",
   "execution_count": 28,
   "metadata": {},
   "outputs": [
    {
     "name": "stdout",
     "output_type": "stream",
     "text": [
      "[0 1 2 3 4]\n"
     ]
    },
    {
     "data": {
      "image/png": "[encoded data removed]",
      "text/plain": [
       "<matplotlib.figure.Figure at 0x18fc9818518>"
      ]
     },
     "metadata": {},
     "output_type": "display_data"
    }
   ],
   "source": [
    "import numpy as np\n",
    "import matplotlib.pyplot as plt\n",
    "\n",
    "N=5\n",
    "menMeans = (20,35,30,35,27)\n",
    "ind = np.arange(N)\n",
    "print(ind)\n",
    "plt.bar(ind,menMeans)\n",
    "plt.show()"
   ]
  },
  {
   "cell_type": "code",
   "execution_count": 30,
   "metadata": {},
   "outputs": [
    {
     "name": "stdout",
     "output_type": "stream",
     "text": [
      "Writing hello_message_n.py\n"
     ]
    }
   ],
   "source": [
    "%%writefile hello_message_n.py\n",
    "\n",
    "def hello_message(repeat_count):\n",
    "    for item in range(repeat_count):\n",
    "        print(\"Hello World\")\n",
    "    print(\"서강대학교\")\n",
    "    \n",
    "\n",
    "if __name__ == \"__main__\":\n",
    "    hello_message(3)\n",
    "    hello_message(4)\n",
    "    hello_message(5)\n"
   ]
  },
  {
   "cell_type": "code",
   "execution_count": 31,
   "metadata": {},
   "outputs": [
    {
     "ename": "NameError",
     "evalue": "name 'hello_message_n' is not defined",
     "traceback": [
      "\u001b[1;31m---------------------------------------------------------------------------\u001b[0m",
      "\u001b[1;31mNameError\u001b[0m                                 Traceback (most recent call last)",
      "\u001b[1;32m<ipython-input-31-8b96fb1c1cdd>\u001b[0m in \u001b[0;36m<module>\u001b[1;34m()\u001b[0m\n\u001b[1;32m----> 1\u001b[1;33m \u001b[0mhello_message_n\u001b[0m\u001b[1;33m.\u001b[0m\u001b[0mpy\u001b[0m\u001b[1;33m\u001b[0m\u001b[0m\n\u001b[0m",
      "\u001b[1;31mNameError\u001b[0m: name 'hello_message_n' is not defined"
     ],
     "output_type": "error"
    }
   ],
   "source": [
    "hello_message_n.py"
   ]
  },
  {
   "cell_type": "code",
   "execution_count": 32,
   "metadata": {},
   "outputs": [
    {
     "name": "stdout",
     "output_type": "stream",
     "text": [
      "Hello World\n",
      "Hello World\n",
      "Hello World\n",
      "서강대학교\n",
      "Hello World\n",
      "Hello World\n",
      "Hello World\n",
      "Hello World\n",
      "서강대학교\n",
      "Hello World\n",
      "Hello World\n",
      "Hello World\n",
      "Hello World\n",
      "Hello World\n",
      "서강대학교\n"
     ]
    }
   ],
   "source": [
    "run hello_message_n.py"
   ]
  },
  {
   "cell_type": "code",
   "execution_count": 35,
   "metadata": {},
   "outputs": [
    {
     "ename": "NameError",
     "evalue": "name 'pi' is not defined",
     "traceback": [
      "\u001b[1;31m---------------------------------------------------------------------------\u001b[0m",
      "\u001b[1;31mNameError\u001b[0m                                 Traceback (most recent call last)",
      "\u001b[1;32m<ipython-input-35-68f7b1e53523>\u001b[0m in \u001b[0;36m<module>\u001b[1;34m()\u001b[0m\n\u001b[1;32m----> 1\u001b[1;33m \u001b[0mpi\u001b[0m\u001b[1;33m\u001b[0m\u001b[0m\n\u001b[0m",
      "\u001b[1;31mNameError\u001b[0m: name 'pi' is not defined"
     ],
     "output_type": "error"
    }
   ],
   "source": [
    "pi"
   ]
  },
  {
   "cell_type": "code",
   "execution_count": 36,
   "metadata": {
    "collapsed": true
   },
   "outputs": [],
   "source": [
    "import math"
   ]
  },
  {
   "cell_type": "code",
   "execution_count": 37,
   "metadata": {},
   "outputs": [
    {
     "data": {
      "text/plain": [
       "3.141592653589793"
      ]
     },
     "execution_count": 37,
     "metadata": {},
     "output_type": "execute_result"
    }
   ],
   "source": [
    "math.pi"
   ]
  },
  {
   "cell_type": "code",
   "execution_count": 40,
   "metadata": {},
   "outputs": [
    {
     "name": "stdout",
     "output_type": "stream",
     "text": [
      "Overwriting circle_area.py\n"
     ]
    }
   ],
   "source": [
    "%%writefile circle_area.py\n",
    "\n",
    "def circle_area(radius,pi):\n",
    "    area = pi * (radius **2)\n",
    "    return area\n",
    "\n",
    "if __name__ == \"__main__\":\n",
    "    print(\"반지름 : 3, PI : 3.14, 면적 :\",circle_area(3,3.14))\n",
    "    print(\"반지름 : 3, Pi : 3.1415, 면적 :\",circle_area(3,3.1415))"
   ]
  },
  {
   "cell_type": "code",
   "execution_count": 41,
   "metadata": {},
   "outputs": [
    {
     "name": "stdout",
     "output_type": "stream",
     "text": [
      "반지름 : 3, PI : 3.14, 면적 : 28.26\n",
      "반지름 : 3, Pi : 3.1415, 면적 : 28.273500000000002\n"
     ]
    }
   ],
   "source": [
    "run circle_area.py"
   ]
  },
  {
   "cell_type": "code",
   "execution_count": 51,
   "metadata": {},
   "outputs": [
    {
     "name": "stdout",
     "output_type": "stream",
     "text": [
      "Overwriting circle_function_3.py\n"
     ]
    }
   ],
   "source": [
    "%%writefile circle_function_3.py\n",
    "\n",
    "import math\n",
    "def circle_area_circumference(radius,pi):\n",
    "    area = pi * (radius **2)\n",
    "    circumference = 2* pi * radius\n",
    "    return area, circumference\n",
    "\n",
    "if __name__ == \"__main__\":\n",
    "    result = circle_area_circumference(3,3.14)\n",
    "    print(\"반지름 : \",3, \"면적과 둘레 : \", result)\n",
    "    res1, res2 = circle_area_circumference(3,math.pi)\n",
    "    print(\"반지름 : 3, 면적 :\",res1,\"둘레 : \",res2)"
   ]
  },
  {
   "cell_type": "code",
   "execution_count": 52,
   "metadata": {},
   "outputs": [
    {
     "name": "stdout",
     "output_type": "stream",
     "text": [
      "반지름 :  3 면적과 둘레 :  (28.26, 18.84)\n",
      "반지름 : 3, 면적 : 28.274333882308138 둘레 :  18.84955592153876\n"
     ]
    }
   ],
   "source": [
    "run circle_function_3.py"
   ]
  },
  {
   "cell_type": "code",
   "execution_count": 46,
   "metadata": {},
   "outputs": [
    {
     "name": "stdout",
     "output_type": "stream",
     "text": [
      "Once deleted, variables cannot be recovered. Proceed (y/[n])? y\n"
     ]
    }
   ],
   "source": [
    "%reset"
   ]
  },
  {
   "cell_type": "code",
   "execution_count": 53,
   "metadata": {},
   "outputs": [
    {
     "name": "stdout",
     "output_type": "stream",
     "text": [
      " C 드라이브의 볼륨: OS\n",
      " 볼륨 일련 번호: E2D6-E449\n",
      "\n",
      " C:\\Users\\alsrn\\pycharm_workspace\\기초응용소프트웨어프로그래밍 디렉터리\n",
      "\n",
      "2018-03-14  오전 11:11    <DIR>          .\n",
      "2018-03-14  오전 11:11    <DIR>          ..\n",
      "2018-03-14  오전 11:09    <DIR>          .ipynb_checkpoints\n",
      "2018-03-14  오전 10:47    <DIR>          __pycache__\n",
      "2018-03-14  오전 11:11            22,865 2018_3_14_수업.ipynb\n",
      "2018-03-14  오전 11:05               248 circle_area.py\n",
      "2018-03-14  오전 11:10               407 circle_function_3.py\n",
      "2018-03-14  오전 10:36               127 fibonacci.py\n",
      "2018-03-14  오전 11:00               234 hello_message_n.py\n",
      "2018-03-07  오전 10:59               110 matplolib.py\n",
      "2018-03-12  오전 09:26                 8 nameA.py\n",
      "2018-03-12  오전 10:02            30,129 Prac_identifer.ipynb\n",
      "2018-03-05  오후 03:31                10 Prac1.py\n",
      "2018-03-14  오전 10:45                66 square_cube.py\n",
      "2018-03-07  오전 10:48               838 TEST_1.ipynb\n",
      "2018-03-07  오전 11:09             1,372 TEST_2_matlab.ipynb\n",
      "2018-03-12  오전 09:28               110 usingNametesy.py\n",
      "              13개 파일              56,524 바이트\n",
      "               4개 디렉터리  415,662,710,784 바이트 남음\n"
     ]
    }
   ],
   "source": [
    "%ls"
   ]
  },
  {
   "cell_type": "code",
   "execution_count": 86,
   "metadata": {},
   "outputs": [
    {
     "name": "stdout",
     "output_type": "stream",
     "text": [
      "Overwriting arguments1.py\n"
     ]
    }
   ],
   "source": [
    "%%writefile arguments1.py\n",
    "\n",
    "import copy\n",
    "\n",
    "def add_one(num1,list1):\n",
    "    num1 = num1 + 1\n",
    "    temp_lst = copy.deepcopy(list1)\n",
    "    temp_lst.append(1)\n",
    "\n",
    "    \n",
    "if __name__ == \"__main__\":\n",
    "    num = 1\n",
    "    lst = [1,2,\"Hello Sogang\"]\n",
    "    print(num,lst)\n",
    "    \n",
    "    add_one(num,lst)\n",
    "    print(num,lst)"
   ]
  },
  {
   "cell_type": "code",
   "execution_count": 87,
   "metadata": {},
   "outputs": [
    {
     "name": "stdout",
     "output_type": "stream",
     "text": [
      "1 [1, 2, 'Hello Sogang']\n",
      "1 [1, 2, 'Hello Sogang']\n"
     ]
    }
   ],
   "source": [
    "%run arguments1.py"
   ]
  },
  {
   "cell_type": "code",
   "execution_count": 82,
   "metadata": {},
   "outputs": [
    {
     "name": "stdout",
     "output_type": "stream",
     "text": [
      "Overwriting circle_keyword_parameter.py\n"
     ]
    }
   ],
   "source": [
    "%%writefile circle_keyword_parameter.py\n",
    "\n",
    "def circle_area(radius,pi):\n",
    "    area = pi * (radius ** 2)\n",
    "    return area\n",
    "    \n",
    "if __name__ == \"__main__\":\n",
    "    print(\"반지름 : 3, 면적 : \",circle_area(3,3.14))\n",
    "    print(\"반지름 : 3, 면적 : \",circle_area(3,pi=3.14))\n",
    "    print(\"반지름 : 3, 면적 : \",circle_area(radius = 3, pi=3.14))\n",
    "    print(\"반지름 : 3, 면적 : \",circle_area(pi = 3.14 , radius = 3))\n",
    "    "
   ]
  },
  {
   "cell_type": "code",
   "execution_count": 83,
   "metadata": {},
   "outputs": [
    {
     "name": "stdout",
     "output_type": "stream",
     "text": [
      "반지름 : 3, 면적 :  28.26\n",
      "반지름 : 3, 면적 :  28.26\n",
      "반지름 : 3, 면적 :  28.26\n",
      "반지름 : 3, 면적 :  28.26\n"
     ]
    }
   ],
   "source": [
    "%run circle_keyword_parameter.py"
   ]
  },
  {
   "cell_type": "code",
   "execution_count": 100,
   "metadata": {},
   "outputs": [
    {
     "name": "stdout",
     "output_type": "stream",
     "text": [
      "Overwriting circle_variable_parameter.py\n"
     ]
    }
   ],
   "source": [
    "%%writefile circle_variable_parameter.py\n",
    "\n",
    "def circle_area(pi,*radiuses):\n",
    "    areas = []\n",
    "    \n",
    "    for radius in radiuses:\n",
    "        area = pi * (radius ** 2)\n",
    "        areas.append(area)\n",
    "        \n",
    "    return areas\n",
    "    \n",
    "if __name__ == \"__main__\":\n",
    "    print(circle_area(3.14,3,4,5)) #(3,4,5) 이런식으로 튜플로 주면 튜플로 받는다.\n",
    "    print(circle_area(3.14,6,7)) #(6,7)도 마찬가지!!\n"
   ]
  },
  {
   "cell_type": "code",
   "execution_count": 103,
   "metadata": {},
   "outputs": [
    {
     "name": "stdout",
     "output_type": "stream",
     "text": [
      "[28.26, 50.24, 78.5]\n",
      "[113.04, 153.86]\n"
     ]
    }
   ],
   "source": [
    "%run circle_variable_parameter.py\n"
   ]
  },
  {
   "cell_type": "code",
   "execution_count": 106,
   "metadata": {},
   "outputs": [
    {
     "name": "stdout",
     "output_type": "stream",
     "text": [
      "local variable :  {'args': (3, 4, 5), 'y': 2, 'x': 1}\n",
      "15\n",
      "local variable :  {'args': (), 'y': 2, 'x': 1}\n",
      "3\n"
     ]
    }
   ],
   "source": [
    "def add5(x,y,*args):\n",
    "    print(\"local variable : \",locals())\n",
    "    \n",
    "    sum = x + y\n",
    "    for i in args:\n",
    "        sum += i\n",
    "    return sum\n",
    "\n",
    "\n",
    "print(add5(1,2,3,4,5))\n",
    "print(add5(1,2))"
   ]
  },
  {
   "cell_type": "code",
   "execution_count": 107,
   "metadata": {},
   "outputs": [
    {
     "name": "stdout",
     "output_type": "stream",
     "text": [
      "Writing circle_undefined_parameter.py\n"
     ]
    }
   ],
   "source": [
    "%%writefile circle_undefined_parameter.py\n",
    "\n",
    "def circle_area(radius, *pi, **info):\n",
    "    for item in pi:\n",
    "        area = item * (radius **2)\n",
    "        print(\"반지름 : \",radius, \"PI:\",item,\"면적 : \",round(area,2)) #round(area,2)는 소수점 둘째자리 까지 나타내기 위함이었다.\n",
    "        \n",
    "    for key in info:\n",
    "        print(key,\":\",info[key])\n",
    "        \n",
    "\n",
    "if __name__ == \"__main__\":\n",
    "    circle_area(3,3.14,3.1415,line_color=\"파랑\",area_color=\"노랑\")\n",
    "    print()\n",
    "    circle_area(5,3.14,3.1415,polygon_name=\"원\",value=\"면적\")"
   ]
  },
  {
   "cell_type": "code",
   "execution_count": 108,
   "metadata": {},
   "outputs": [
    {
     "name": "stdout",
     "output_type": "stream",
     "text": [
      "반지름 :  3 PI: 3.14 면적 :  28.26\n",
      "반지름 :  3 PI: 3.1415 면적 :  28.27\n",
      "line_color : 파랑\n",
      "area_color : 노랑\n",
      "\n",
      "반지름 :  5 PI: 3.14 면적 :  78.5\n",
      "반지름 :  5 PI: 3.1415 면적 :  78.54\n",
      "polygon_name : 원\n",
      "value : 면적\n"
     ]
    }
   ],
   "source": [
    "%run circle_undefined_parameter.py"
   ]
  },
  {
   "cell_type": "code",
   "execution_count": 110,
   "metadata": {},
   "outputs": [
    {
     "name": "stdout",
     "output_type": "stream",
     "text": [
      "Writing add5_2.py\n"
     ]
    }
   ],
   "source": [
    "%%writefile add5_2.py\n",
    "\n",
    "def add5(x,y,*args,**kargs):\n",
    "    print(\"local variable\",locals())\n",
    "    sum = sumj = 0\n",
    "    \n",
    "    sum = x+y\n",
    "    for i in args:\n",
    "        sum +=i\n",
    "    for k,j in kargs.items():\n",
    "        sumj +=j\n",
    "        \n",
    "    return sum + sumj\n",
    "\n",
    "\n",
    "if __name__ ==\"__main__\":\n",
    "    print(add5(1,2,*(3,4,5),**dict(k=1,i=2)))"
   ]
  },
  {
   "cell_type": "code",
   "execution_count": 111,
   "metadata": {},
   "outputs": [
    {
     "name": "stdout",
     "output_type": "stream",
     "text": [
      "local variable {'kargs': {'k': 1, 'i': 2}, 'args': (3, 4, 5), 'y': 2, 'x': 1}\n",
      "18\n"
     ]
    }
   ],
   "source": [
    "%run add5_2.py"
   ]
  },
  {
   "cell_type": "code",
   "execution_count": null,
   "metadata": {
    "collapsed": true
   },
   "outputs": [],
   "source": []
  }
 ],
 "metadata": {
  "kernelspec": {
   "display_name": "Python 3",
   "language": "python",
   "name": "python3"
  },
  "language_info": {
   "codemirror_mode": {
    "name": "ipython",
    "version": 3
   },
   "file_extension": ".py",
   "mimetype": "text/x-python",
   "name": "python",
   "nbconvert_exporter": "python",
   "pygments_lexer": "ipython3",
   "version": "3.6.3"
  }
 },
 "nbformat": 4,
 "nbformat_minor": 2
}
