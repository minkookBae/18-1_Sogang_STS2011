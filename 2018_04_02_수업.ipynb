{
 "cells": [
  {
   "cell_type": "code",
   "execution_count": 6,
   "metadata": {
    "collapsed": true
   },
   "outputs": [
    {
     "name": "stdout",
     "output_type": "stream",
     "text": [
      "색상 :  red\n",
      "속도 :  20\n",
      "속도 :  60\n",
      "속도 :  130\n"
     ]
    }
   ],
   "source": [
    "class Car:\n",
    "    def __init__(self):\n",
    "        self._speed = 0\n",
    "    @property\n",
    "    def speed(self):\n",
    "        return self._speed\n",
    "    def start(self):\n",
    "        self._speed = 20\n",
    "    def accelerate(self):\n",
    "        self._speed += 30\n",
    "    def stop(self):\n",
    "        self._speed = 0\n",
    "        \n",
    "        \n",
    "class SportCar(Car):\n",
    "    def __init__(self):\n",
    "        self._color = \"red\"\n",
    "    def accelerate(self):\n",
    "        self._speed += 40\n",
    "    def turbocharge(self):\n",
    "        self._speed += 70\n",
    "    @property\n",
    "    def color(self):\n",
    "        return  self._color\n",
    "    \n",
    "    \n",
    "if __name__ == '__main__':\n",
    "    my_sportscar = SportCar()\n",
    "    print(\"색상 : \",my_sportscar.color)\n",
    "    my_sportscar.start()\n",
    "    print(\"속도 : \",my_sportscar.speed)\n",
    "    my_sportscar.accelerate()\n",
    "    print(\"속도 : \",my_sportscar.speed)\n",
    "    my_sportscar.turbocharge()\n",
    "    print(\"속도 : \",my_sportscar.speed)\n",
    "    my_sportscar.start()"
   ]
  },
  {
   "cell_type": "code",
   "execution_count": 23,
   "metadata": {},
   "outputs": [
    {
     "name": "stdout",
     "output_type": "stream",
     "text": [
      "A class 생성자\n",
      "C Class 생성자\n",
      "B Class 생성자\n",
      "D Class 생성자\n"
     ]
    }
   ],
   "source": [
    "class A:\n",
    "    def __init__(self):\n",
    "        print(\"A class 생성자\")\n",
    "    \n",
    "class B(A):\n",
    "    def __init__(self):\n",
    "        super(B, self).__init__()\n",
    "        print(\"B Class 생성자\")\n",
    "        \n",
    "class C(A):\n",
    "    def __init__(self):\n",
    "        super(C, self).__init__()\n",
    "        print (\"C Class 생성자\")\n",
    "        \n",
    "        \n",
    "class D(B, C):\n",
    "    def __init__(self):\n",
    "        super(D, self).__init__()\n",
    "        print(\"D Class 생성자\")\n",
    "        \n",
    "ObjectD = D()"
   ]
  },
  {
   "cell_type": "code",
   "execution_count": 24,
   "metadata": {},
   "outputs": [
    {
     "data": {
      "text/plain": [
       "(__main__.D, __main__.B, __main__.C, __main__.A, object)"
      ]
     },
     "execution_count": 24,
     "metadata": {},
     "output_type": "execute_result"
    }
   ],
   "source": [
    "D.__mro__"
   ]
  },
  {
   "cell_type": "code",
   "execution_count": 26,
   "metadata": {},
   "outputs": [
    {
     "name": "stdout",
     "output_type": "stream",
     "text": [
      "Triangle Area is :  50.0\n",
      "Rectangle Area is  100\n"
     ]
    }
   ],
   "source": [
    "class Figure:\n",
    "    def __init__(self,width,height):\n",
    "        self._width = width\n",
    "        self._height = height\n",
    "    def getArea(self):\n",
    "        pass\n",
    "\n",
    "class Triangle(Figure):\n",
    "    def getArea(self):\n",
    "        return self._width * self._height/2.0\n",
    "    \n",
    "class Rectangle(Figure):\n",
    "    def getArea(self):\n",
    "        return self._width * self._height\n",
    "    \n",
    "myTriangle = Triangle(10,10)\n",
    "myRectangle = Rectangle(10,10)\n",
    "\n",
    "print(\"Triangle Area is : \",myTriangle.getArea())\n",
    "print(\"Rectangle Area is \",myRectangle.getArea())"
   ]
  },
  {
   "cell_type": "code",
   "execution_count": 30,
   "metadata": {},
   "outputs": [
    {
     "name": "stdout",
     "output_type": "stream",
     "text": [
      "Writing airforce.py\n"
     ]
    }
   ],
   "source": [
    "%%writefile airforce.py\n",
    "\n",
    "class AirForce:\n",
    "    def take_off(self):\n",
    "        pass\n",
    "    def fly(self):\n",
    "        pass\n",
    "    def attack(self):\n",
    "        pass\n",
    "    def land(self):\n",
    "        pass"
   ]
  },
  {
   "cell_type": "code",
   "execution_count": 32,
   "metadata": {
    "collapsed": true
   },
   "outputs": [],
   "source": [
    "from airforce import AirForce\n",
    "\n",
    "class Fighter(AirForce):\n",
    "    def __int__(self,weapon_num):\n",
    "        self._missile_num = weapon_num\n",
    "    def take_off(self):\n",
    "        print(\"전투기 발진\")\n",
    "    def fly(self):\n",
    "        print(\"목표지로 출격\")\n",
    "    def attack(self):\n",
    "        for i in range(self._missile_num):\n",
    "            print(\"미사일 발사\")\n",
    "            self._missile_num -= 1\n",
    "            \n",
    "    def land(self):\n",
    "        print(\"전투기 착륙\")"
   ]
  },
  {
   "cell_type": "code",
   "execution_count": 34,
   "metadata": {
    "collapsed": true
   },
   "outputs": [],
   "source": [
    "from airforce import AirForce\n",
    "\n",
    "class Bomber(AirForce):\n",
    "    def __init__(self,bomb_num):\n",
    "        self._bomb_num = bomb_num\n",
    "        \n",
    "    def take_off(self):\n",
    "        print(\"폭격기 발진\")\n",
    "    def fly(self):\n",
    "        print(\"폭격기 목적지로 출격\")\n",
    "    def attack(self):\n",
    "        for i in range(self._bomb_num):\n",
    "            print(\"폭탄투하\")\n",
    "            self._bomb_num -=1\n",
    "            \n",
    "    def land(self):\n",
    "        print(\"폭격기 착륙\")"
   ]
  },
  {
   "cell_type": "code",
   "execution_count": 36,
   "metadata": {
    "collapsed": true
   },
   "outputs": [],
   "source": [
    "def war_game():\n",
    "    pass"
   ]
  },
  {
   "cell_type": "code",
   "execution_count": 39,
   "metadata": {},
   "outputs": [
    {
     "name": "stdout",
     "output_type": "stream",
     "text": [
      "원주율:  3.14\n",
      "반지름:  3 면적:  28.26\n",
      "반지름:  3 둘레:  18.84\n",
      "반지름:  4 면적:  50.24\n",
      "반지름:  4 둘레:  25.12\n"
     ]
    }
   ],
   "source": [
    "class Circle:\n",
    "    PI = 3.14\n",
    "    \n",
    "    def __init__(self, radius):\n",
    "        self._radius = radius\n",
    "    \n",
    "    @property\n",
    "    def radius(self):\n",
    "        return self._radius\n",
    "    def get_area(self):\n",
    "        area = Circle.PI * (self.radius **2)\n",
    "        return round(area, 2)\n",
    "    \n",
    "    def get_circumference(self):\n",
    "        circumference = 2 * Circle.PI * self.radius\n",
    "        return round(circumference, 2)\n",
    "    \n",
    "if __name__ == '__main__':\n",
    "    circle1 = Circle(3)\n",
    "    circle1 = Circle(3) \n",
    "    print(\"원주율: \", Circle.PI) # 4 \n",
    "    print(\"반지름: \", circle1.radius, \"면적: \", circle1.get_area()) \n",
    "    print(\"반지름: \", circle1.radius, \"둘레: \", \n",
    "    circle1.get_circumference()) \n",
    "    circle2 = Circle(4) \n",
    "    print(\"반지름: \", circle2.radius, \"면적: \", circle2.get_area()) \n",
    "    print(\"반지름: \", circle2.radius, \"둘레: \", \n",
    "    circle2.get_circumference())"
   ]
  },
  {
   "cell_type": "code",
   "execution_count": null,
   "metadata": {
    "collapsed": true
   },
   "outputs": [],
   "source": []
  }
 ],
 "metadata": {
  "kernelspec": {
   "display_name": "Python 3",
   "language": "python",
   "name": "python3"
  },
  "language_info": {
   "codemirror_mode": {
    "name": "ipython",
    "version": 3
   },
   "file_extension": ".py",
   "mimetype": "text/x-python",
   "name": "python",
   "nbconvert_exporter": "python",
   "pygments_lexer": "ipython3",
   "version": "3.6.3"
  }
 },
 "nbformat": 4,
 "nbformat_minor": 1
}
