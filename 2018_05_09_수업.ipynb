{
 "cells": [
  {
   "cell_type": "code",
   "execution_count": 5,
   "metadata": {
    "collapsed": true
   },
   "outputs": [
    {
     "data": {
      "text/plain": [
       "[('dog', 'dot'), ('do', 'don'), ('dumb', 'dumb')]"
      ]
     },
     "execution_count": 5,
     "metadata": {},
     "output_type": "execute_result"
    }
   ],
   "source": [
    "import re\n",
    "\n",
    "data =  \"\"\"\n",
    "\"dog dot\", \"do don't\", \"dumb-dumb\", \"no match\", \"dumb-bumb\"\n",
    "\"\"\"\n",
    "\n",
    "p = re.compile('(d\\w+)\\W(d\\w+)')\n",
    "p.findall(data)"
   ]
  },
  {
   "cell_type": "code",
   "execution_count": 9,
   "metadata": {
    "collapsed": false
   },
   "outputs": [
    {
     "name": "stdout",
     "output_type": "stream",
     "text": [
      "<_sre.SRE_Match object; span=(5, 11), match='Python'>\n<_sre.SRE_Match object; span=(5, 11), match='Python'>\n"
     ]
    }
   ],
   "source": [
    "print(re.search('Python(?=!)', \"Wow! Python!\"))\n",
    "print(re.search('Python(?=&)', \"Wow! Python&\"))"
   ]
  },
  {
   "cell_type": "code",
   "execution_count": 13,
   "metadata": {},
   "outputs": [
    {
     "name": "stdout",
     "output_type": "stream",
     "text": [
      "<_sre.SRE_Match object; span=(3, 8), match='class'>\nNone\nNone\n"
     ]
    }
   ],
   "source": [
    "import re\n",
    "p = re.compile(r'\\bclass\\b')\n",
    "print(p.search('no class at all'))\n",
    "print(p.search(\"the declassified algorithm\"))\n",
    "print(p.search('one subclass is'))"
   ]
  },
  {
   "cell_type": "code",
   "execution_count": 16,
   "metadata": {},
   "outputs": [
    {
     "data": {
      "text/plain": [
       "'problem1'"
      ]
     },
     "execution_count": 16,
     "metadata": {},
     "output_type": "execute_result"
    }
   ],
   "source": [
    "import re\n",
    "\n",
    "p = re.compile('\\w+(?=:)')\n",
    "data = \"\"\"\n",
    "problem1:Solve the EQ1\n",
    "\"\"\"\n",
    "\n",
    "result = re.search(p, data)\n",
    "result.group()"
   ]
  },
  {
   "cell_type": "code",
   "execution_count": 19,
   "metadata": {},
   "outputs": [
    {
     "data": {
      "text/plain": [
       "'Solve'"
      ]
     },
     "execution_count": 19,
     "metadata": {},
     "output_type": "execute_result"
    }
   ],
   "source": [
    "import re\n",
    "\n",
    "p = re.compile('(?<=:)\\w+')\n",
    "data = \"\"\"\n",
    "problem1:Solve the EQ1\"\"\"\n",
    "\n",
    "result = re.search(p, data)\n",
    "result.group()"
   ]
  },
  {
   "cell_type": "code",
   "execution_count": 75,
   "metadata": {},
   "outputs": [
    {
     "data": {
      "text/plain": [
       "\"Seo Maria's homepages\""
      ]
     },
     "execution_count": 75,
     "metadata": {},
     "output_type": "execute_result"
    }
   ],
   "source": [
    "import re\n",
    "\n",
    "data = \"\"\"\n",
    "<HEAD>\n",
    "<TITLE>Seo Maria's homepages</TITLE>\n",
    "</HEAD>\n",
    "\"\"\"\n",
    "\n",
    "p = re.compile('(?<=\\<TITLE\\>).*(?=\\</TITLE>)', re.I)\n",
    "\n",
    "result = re.search(p, data)\n",
    "result.group()"
   ]
  },
  {
   "cell_type": "code",
   "execution_count": 159,
   "metadata": {},
   "outputs": [
    {
     "name": "stdout",
     "output_type": "stream",
     "text": [
      "['foo.bar']\n[]\n['sendmail.cf']\n['checksum.exe']\n"
     ]
    }
   ],
   "source": [
    "import re\n",
    "\n",
    "data = \"\"\"\n",
    "foo.bar, autoexec.bat, sendmail.cf, checksum.exe\n",
    "\"\"\"\n",
    "list = data.split(',')\n",
    "p = re.compile(r'\\w+[.](?!bat)\\w+')\n",
    "answer = []\n",
    "for i in list:\n",
    "    result = re.findall(p, i)\n",
    "    \n",
    "    print(result)"
   ]
  },
  {
   "cell_type": "code",
   "execution_count": 139,
   "metadata": {},
   "outputs": [
    {
     "data": {
      "text/plain": [
       "['\\nfoo.bar', ' autoexec.bat', ' sendmail.cf', ' checksum.exe\\n']"
      ]
     },
     "execution_count": 139,
     "metadata": {},
     "output_type": "execute_result"
    }
   ],
   "source": [
    "data = \"\"\"\n",
    "foo.bar, autoexec.bat, sendmail.cf, checksum.exe\n",
    "\"\"\"\n"
   ]
  },
  {
   "cell_type": "code",
   "execution_count": null,
   "metadata": {},
   "outputs": [],
   "source": []
  }
 ],
 "metadata": {
  "kernelspec": {
   "display_name": "Python 2",
   "language": "python",
   "name": "python2"
  },
  "language_info": {
   "codemirror_mode": {
    "name": "ipython",
    "version": 2
   },
   "file_extension": ".py",
   "mimetype": "text/x-python",
   "name": "python",
   "nbconvert_exporter": "python",
   "pygments_lexer": "ipython2",
   "version": "2.7.6"
  }
 },
 "nbformat": 4,
 "nbformat_minor": 0
}
