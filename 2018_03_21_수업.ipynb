{
 "cells": [
  {
   "cell_type": "code",
   "execution_count": 1,
   "metadata": {},
   "outputs": [
    {
     "name": "stdout",
     "output_type": "stream",
     "text": [
      "Writing car_example1.py\n"
     ]
    }
   ],
   "source": [
    "%%writefile car_example1.py\n",
    "\n",
    "class Car:\n",
    "    def __init__(self):\n",
    "        self._speed = 0\n",
    "        print(\"자동차가 생성\")\n",
    "              \n",
    "    def get_speed(self):\n",
    "              return self._speed\n",
    "              \n",
    "    def start(self):\n",
    "              self._speed = 20\n",
    "              print(\"자동차가 출발\")\n",
    "                \n",
    "    def accelerate(self):\n",
    "        self._speed = self._speed + 30\n",
    "        print(\"자동차가 가속합니다\")\n",
    "        \n",
    "    def stop(self):\n",
    "        self._speed = 0\n",
    "        print(\"정지\")\n",
    "        \n",
    "        \n",
    "if __name__ ==\"__main__\":\n",
    "    my_car = Car()\n",
    "    my_car.start()\n",
    "    print(\"속도 : \",my_car.get_speed())\n",
    "    my_car.accelerate()\n",
    "    print(\"속도 : \",my_car.get_speed())\n",
    "    my_car.stop()\n",
    "    print(\"속도 : \",my_car.get_speed())\n",
    "    \n",
    "    "
   ]
  },
  {
   "cell_type": "code",
   "execution_count": 2,
   "metadata": {
    "collapsed": true
   },
   "outputs": [
    {
     "name": "stdout",
     "output_type": "stream",
     "text": [
      "자동차가 생성\n자동차가 출발\n속도 :  20\n자동차가 가속합니다\n속도 :  50\n정지\n속도 :  0\n"
     ]
    }
   ],
   "source": [
    "run car_example1.py"
   ]
  },
  {
   "cell_type": "code",
   "execution_count": 3,
   "metadata": {},
   "outputs": [
    {
     "name": "stdout",
     "output_type": "stream",
     "text": [
      "hello world\n"
     ]
    }
   ],
   "source": [
    "print(\"hello world\")"
   ]
  },
  {
   "cell_type": "code",
   "execution_count": 46,
   "metadata": {},
   "outputs": [],
   "source": [
    "class Foo:\n",
    "    def func1():#첫 번째 인자로 항상 인스턴스가 전달되기 때문에 typeerror 발생\n",
    "        print(\"function 1\")\n",
    "    def func2(self): \n",
    "        print(id(self))\n",
    "        print(\"function 2\")"
   ]
  },
  {
   "cell_type": "code",
   "execution_count": 47,
   "metadata": {},
   "outputs": [
    {
     "data": {
      "text/plain": [
       "1868937925072"
      ]
     },
     "execution_count": 47,
     "metadata": {},
     "output_type": "execute_result"
    }
   ],
   "source": [
    "f=Foo()\n",
    "id(f)"
   ]
  },
  {
   "cell_type": "code",
   "execution_count": 48,
   "metadata": {},
   "outputs": [
    {
     "data": {
      "text/plain": [
       "1868937925072"
      ]
     },
     "execution_count": 48,
     "metadata": {},
     "output_type": "execute_result"
    }
   ],
   "source": [
    "id(f)"
   ]
  },
  {
   "cell_type": "code",
   "execution_count": 57,
   "metadata": {},
   "outputs": [
    {
     "name": "stdout",
     "output_type": "stream",
     "text": [
      "function 1\n"
     ]
    }
   ],
   "source": [
    "Foo.func1()"
   ]
  },
  {
   "cell_type": "code",
   "execution_count": 50,
   "metadata": {},
   "outputs": [
    {
     "data": {
      "text/plain": [
       "1868937926640"
      ]
     },
     "execution_count": 50,
     "metadata": {},
     "output_type": "execute_result"
    }
   ],
   "source": [
    "f3 = Foo()\n",
    "id(f3)"
   ]
  },
  {
   "cell_type": "code",
   "execution_count": 52,
   "metadata": {},
   "outputs": [
    {
     "name": "stdout",
     "output_type": "stream",
     "text": [
      "1868937926640\nfunction 2\n"
     ]
    }
   ],
   "source": [
    "Foo.func2(f3)"
   ]
  },
  {
   "cell_type": "code",
   "execution_count": 53,
   "metadata": {},
   "outputs": [
    {
     "name": "stdout",
     "output_type": "stream",
     "text": [
      "1868937926640\nfunction 2\n"
     ]
    }
   ],
   "source": [
    "f3.func2()"
   ]
  },
  {
   "cell_type": "code",
   "execution_count": 75,
   "metadata": {},
   "outputs": [
    {
     "name": "stdout",
     "output_type": "stream",
     "text": [
      "6\n"
     ]
    }
   ],
   "source": [
    "class FourCal:\n",
    "    def __init__(self, a, b):\n",
    "        self.a = a\n",
    "        self.b = b\n",
    "        self.result = 0\n",
    "    \n",
    "    def sum(self):\n",
    "        self.result = self.a + self.b\n",
    "        print(self.result)\n",
    "        \n",
    "    def mul(self):\n",
    "        self.result = self.a * self.b\n",
    "        print(self.result)\n",
    "        \n",
    "    def sub(self):\n",
    "        self.result = self.a - self.b\n",
    "        print(self.result)\n",
    "        \n",
    "    def div(self):\n",
    "        self.result = self.a / self.b\n",
    "        print(self.result)\n",
    "\n",
    "\n",
    "a = FourCal(4, 2)\n",
    "b = FourCal(3, 7)\n",
    "a.sum()"
   ]
  },
  {
   "cell_type": "code",
   "execution_count": 78,
   "metadata": {},
   "outputs": [
    {
     "name": "stdout",
     "output_type": "stream",
     "text": [
      "8\n"
     ]
    }
   ],
   "source": [
    "a.mul()"
   ]
  },
  {
   "cell_type": "code",
   "execution_count": 63,
   "metadata": {},
   "outputs": [
    {
     "name": "stdout",
     "output_type": "stream",
     "text": [
      "2\n"
     ]
    }
   ],
   "source": [
    "a.sub()"
   ]
  },
  {
   "cell_type": "code",
   "execution_count": 66,
   "metadata": {},
   "outputs": [
    {
     "name": "stdout",
     "output_type": "stream",
     "text": [
      "2.0\n"
     ]
    }
   ],
   "source": [
    "a.div()"
   ]
  },
  {
   "cell_type": "code",
   "execution_count": 68,
   "metadata": {},
   "outputs": [
    {
     "name": "stdout",
     "output_type": "stream",
     "text": [
      "10\n"
     ]
    }
   ],
   "source": [
    "b.sum()"
   ]
  },
  {
   "cell_type": "code",
   "execution_count": 72,
   "metadata": {},
   "outputs": [
    {
     "name": "stdout",
     "output_type": "stream",
     "text": [
      "-4\n"
     ]
    }
   ],
   "source": [
    "b.sub()"
   ]
  },
  {
   "cell_type": "code",
   "execution_count": 76,
   "metadata": {},
   "outputs": [
    {
     "name": "stdout",
     "output_type": "stream",
     "text": [
      "0.42857142857142855\n"
     ]
    }
   ],
   "source": [
    "b.div()"
   ]
  },
  {
   "cell_type": "code",
   "execution_count": 74,
   "metadata": {},
   "outputs": [],
   "source": []
  },
  {
   "cell_type": "code",
   "execution_count": null,
   "metadata": {},
   "outputs": [],
   "source": []
  }
 ],
 "metadata": {
  "kernelspec": {
   "display_name": "Python 3",
   "language": "python",
   "name": "python3"
  },
  "language_info": {
   "codemirror_mode": {
    "name": "ipython",
    "version": 3
   },
   "file_extension": ".py",
   "mimetype": "text/x-python",
   "name": "python",
   "nbconvert_exporter": "python",
   "pygments_lexer": "ipython3",
   "version": "3.6.3"
  }
 },
 "nbformat": 4,
 "nbformat_minor": 2
}
