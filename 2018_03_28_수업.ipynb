{
 "cells": [
  {
   "cell_type": "code",
   "execution_count": 1,
   "metadata": {
    "collapsed": true
   },
   "outputs": [
    {
     "data": {
      "text/plain": [
       "['__class__',\n '__delattr__',\n '__delete__',\n '__dir__',\n '__doc__',\n '__eq__',\n '__format__',\n '__ge__',\n '__get__',\n '__getattribute__',\n '__gt__',\n '__hash__',\n '__init__',\n '__init_subclass__',\n '__isabstractmethod__',\n '__le__',\n '__lt__',\n '__ne__',\n '__new__',\n '__reduce__',\n '__reduce_ex__',\n '__repr__',\n '__set__',\n '__setattr__',\n '__sizeof__',\n '__str__',\n '__subclasshook__',\n 'deleter',\n 'fdel',\n 'fget',\n 'fset',\n 'getter',\n 'setter']"
      ]
     },
     "execution_count": 1,
     "metadata": {},
     "output_type": "execute_result"
    }
   ],
   "source": [
    "dir(property)"
   ]
  },
  {
   "cell_type": "code",
   "execution_count": 5,
   "metadata": {},
   "outputs": [
    {
     "name": "stdout",
     "output_type": "stream",
     "text": [
      "가격 :  2000\n속도 :  30\n색상 :  Red\n"
     ]
    }
   ],
   "source": [
    "class Car:\n",
    "    def __init__(self):\n",
    "        self._price = 0\n",
    "        self._speed = 0\n",
    "        self._color = ''\n",
    "    \n",
    "    def get_price(self): \n",
    "        return self._price\n",
    "    \n",
    "    def set_price(self, value):\n",
    "        self._price = value \"\"\"미리 define 해놓으면 뒤에서 property를 이용하여 access 할 수 있다.\"\"\"\n",
    "  \n",
    "    def get_speed(self):\n",
    "        return self._speed\n",
    "    \n",
    "    def set_speed(self,value):\n",
    "         self._speed = value\n",
    "        \n",
    "    def get_color(self):\n",
    "        return self._color\n",
    "    \n",
    "    def set_color(self,value):\n",
    "        self._color = value\n",
    "\n",
    "    price = property(get_price,set_price) \"\"\"여기서 access 하여 get,set,del,doc를 설정할 수 있음.\"\"\"\n",
    "    color = property(get_color,set_color)\n",
    "    speed = property(get_speed, set_speed)\n",
    "\n",
    "    \n",
    "if __name__ == '__main__':\n",
    "    my_car = Car()\n",
    "    my_car.price = 2000\n",
    "    my_car.speed = 30\n",
    "    my_car.color = 'Red'\n",
    "    \n",
    "    print(\"가격 : \",my_car.price)\n",
    "    print(\"속도 : \",my_car.speed)\n",
    "    print(\"색상 : \",my_car.color)"
   ]
  },
  {
   "cell_type": "code",
   "execution_count": 14,
   "metadata": {},
   "outputs": [
    {
     "name": "stdout",
     "output_type": "stream",
     "text": [
      "Program start\nBegin my_function\nHello World.!\nEnd my_function\n"
     ]
    }
   ],
   "source": [
    "def verbose(func):\n",
    "    def new_func():\n",
    "        print(\"Begin\", func.__name__)\n",
    "        func()\n",
    "        print(\"End\", func.__name__)\n",
    "    return new_func\n",
    "\n",
    "\n",
    "@verbose\n",
    "def my_function():\n",
    "    print(\"Hello World.!\")\n",
    "    \n",
    "    \n",
    "print(\"Program start\")\n",
    "my_function()"
   ]
  },
  {
   "cell_type": "code",
   "execution_count": 13,
   "metadata": {},
   "outputs": [
    {
     "name": "stdout",
     "output_type": "stream",
     "text": [
      "Program start\nBegin my_function\nHello World.!\nEnd my_function\n"
     ]
    }
   ],
   "source": [
    "def verbose(func):\n",
    "    def new_func():\n",
    "        print(\"Begin\", func.__name__)\n",
    "        func()\n",
    "        print(\"End\", func.__name__)\n",
    "    return new_func\n",
    "\n",
    "\n",
    "def my_function():\n",
    "    print(\"Hello World.!\")\n",
    "    \n",
    "    \n",
    "my_function = verbose(my_function)\n",
    "print(\"Program start\")\n",
    "my_function()"
   ]
  },
  {
   "cell_type": "code",
   "execution_count": 18,
   "metadata": {},
   "outputs": [
    {
     "name": "stdout",
     "output_type": "stream",
     "text": [
      "Begin my_function\nHello World.!\nEnd my_function\n\nBegin your_function\nHello city!\nEnd your_function\n\nBegin our_function\nHello everybody!\nEnd our_function\n"
     ]
    }
   ],
   "source": [
    "def verbose(func):\n",
    "    def new_func():\n",
    "        print(\"Begin\", func.__name__)\n",
    "        func()\n",
    "        print(\"End\", func.__name__)\n",
    "    return new_func\n",
    "\n",
    "\n",
    "@verbose\n",
    "def my_function():\n",
    "    print(\"Hello World.!\")\n",
    "    \n",
    "    \n",
    "@verbose\n",
    "def your_function():\n",
    "    print(\"Hello city!\")\n",
    "    \n",
    "\n",
    "@verbose\n",
    "def our_function():\n",
    "    print(\"Hello everybody!\")\n",
    "    \n",
    "    \n",
    "my_function()\n",
    "print()\n",
    "your_function()\n",
    "print()\n",
    "our_function()asdsadsadasd"
   ]
  },
  {
   "cell_type": "code",
   "execution_count": 21,
   "metadata": {},
   "outputs": [
    {
     "name": "stdout",
     "output_type": "stream",
     "text": [
      "verbose Initializing\nProgramming start\nBegin my_function\nHello World!\nEnd my_function\n"
     ]
    }
   ],
   "source": [
    "class Verbose:\n",
    "    def __init__(self, f):\n",
    "        print(\"verbose Initializing\")\n",
    "        self.func = f\n",
    "    \n",
    "    def __call__(self, *args, **kwargs):\n",
    "        print(\"Begin\", self.func.__name__)\n",
    "        self.func()\n",
    "        print(\"End\",self.func.__name__)\n",
    "        \n",
    "\n",
    "@Verbose\n",
    "def my_function():\n",
    "    print(\"Hello World!\")\n",
    "\n",
    "\n",
    "print(\"Programming start\")\n",
    "my_function()"
   ]
  },
  {
   "cell_type": "code",
   "execution_count": 34,
   "metadata": {
    "collapsed": false
   },
   "outputs": [
    {
     "name": "stdout",
     "output_type": "stream",
     "text": [
      "verbose Initializing\nProgramming start\n\nBegin my_function\nHello, Mickey\nEnd my_function\n\nBegin my_function\nHello, Minnie\nEnd my_function\n\nBegin my_function\nHello, Donald\nEnd my_function\n"
     ]
    }
   ],
   "source": [
    "class Deco:\n",
    "    def __init__(self, f):\n",
    "        print(\"verbose Initializing\")\n",
    "        self.func = f\n",
    "    \n",
    "    def __call__(self, *args, **kwargs):\n",
    "        print(\"Begin\", self.func.__name__)\n",
    "        self.func(*args)\n",
    "        print(\"End\", self.func.__name__)\n",
    "        \n",
    "\n",
    "@Deco\n",
    "def my_function(name):\n",
    "    print(\"Hello, \" + name)\n",
    " \n",
    " \n",
    "print(\"Programming start\")\n",
    "print()\n",
    "my_function(\"Mickey\")\n",
    "print()\n",
    "my_function(\"Minnie\")\n",
    "print()\n",
    "my_function(\"Donald\")"
   ]
  },
  {
   "cell_type": "code",
   "execution_count": 36,
   "metadata": {},
   "outputs": [],
   "source": [
    "#2018_ASWP_Lec_05_OOP_Part2_open"
   ]
  },
  {
   "cell_type": "code",
   "execution_count": null,
   "metadata": {
    "collapsed": false
   },
   "outputs": [
    {
     "name": "stdout",
     "output_type": "stream",
     "text": [
      "1 2 3 4 5 6 7 8 9 10 11 12 13 14 15 16 17 18 19 20 21 22 23 24 25 26 27 28 29 30 31 32 33 34 35 36 37 38 39 40 41 42 43 44 45 46 47 48 49 50 51 52 53 54 55 56 57 58 59 60 61 62 63 64 65 66 67 68 69 70 71 72 73 74 75 76 77 78 79 80 81 82 83 84 85 86 87 88 89 90 91 92 93 94 95 96 97 98 99 \n 0.002003908157348633\n\n101 102 103 104 105 106 107 108 109 110 111 112 113 114 115 116 117 118 119 120 121 122 123 124 125 126 127 128 129 130 131 132 133 134 135 136 137 138 139 140 141 142 143 144 145 146 147 148 149 150 151 152 153 154 155 156 157 158 159 160 161 162 163 164 165 166 167 168 169 170 171 172 173 174 175 176 177 178 179 180 181 182 183 184 185 186 187 188 189 190 191 192 193 194 195 196 197 198 199 200 201 202 \n 0.002006053924560547\n"
     ]
    }
   ],
   "source": [
    "def checktime(func):\n",
    "    import time\n",
    "    \n",
    "    def newfunc(*args, **kwargs):\n",
    "        start = time.time()\n",
    "        func(*args, **kwargs)\n",
    "        end = time.time()\n",
    "        print(\"\\n\", end - start)\n",
    "    return newfunc\n",
    "\n",
    "@checktime\n",
    "def aFunc():\n",
    "    for i in range(1,100):\n",
    "        print(i, end = ' ')\n",
    "        \n",
    "@checktime\n",
    "def bFunc(start, end):\n",
    "    for i in range(start, end+1):\n",
    "        print(i, end = ' ')\n",
    "     \n",
    "        \n",
    "aFunc()\n",
    "print()\n",
    "bFunc(101,202)"
   ]
  },
  {
   "cell_type": "code",
   "execution_count": 49,
   "metadata": {},
   "outputs": [
    {
     "name": "stdout",
     "output_type": "stream",
     "text": [
      "sing a song\nsing a song\ncan dance\n"
     ]
    }
   ],
   "source": [
    "class Parent:\n",
    "    def can_sing(self):\n",
    "        print(\"sing a song\")\n",
    "        \n",
    "father = Parent()\n",
    "father.can_sing()\n",
    "\n",
    "class LuckyChild(Parent):\n",
    "    pass\n",
    "\n",
    "child1 = LuckyChild()\n",
    "child1.can_sing()\n",
    "\n",
    "class UnluckyChild:\n",
    "    def can_dance(self):\n",
    "        print(\"can dance\")\n",
    "\n",
    "child2 = UnluckyChild()\n",
    "child2.can_dance()"
   ]
  },
  {
   "cell_type": "code",
   "execution_count": null,
   "metadata": {},
   "outputs": [],
   "source": [
    "class Person:\n",
    "    def __init__(self,**kwargs):\n",
    "        self.Name = kwargs['name']\n",
    "        self.Age = kwargs['age']\n",
    "        self.Gender = kwargs['gender']\n",
    "    \n",
    "    def aboutMe(self):\n",
    "        print(\"이름은 : \",self.Name ,\"이고, 나이는 \",self.Age, \"살 입니다.\")\n",
    "        \n",
    "\n",
    "class Employee(Person):\n",
    "    def __init__(self,**kwargs):\n",
    "        Person.__init__(self,):\n",
    "        "
   ]
  }
 ],
 "metadata": {
  "kernelspec": {
   "display_name": "Python 3",
   "language": "python",
   "name": "python3"
  },
  "language_info": {
   "codemirror_mode": {
    "name": "ipython",
    "version": 3
   },
   "file_extension": ".py",
   "mimetype": "text/x-python",
   "name": "python",
   "nbconvert_exporter": "python",
   "pygments_lexer": "ipython3",
   "version": "3.6.3"
  }
 },
 "nbformat": 4,
 "nbformat_minor": 2
}
