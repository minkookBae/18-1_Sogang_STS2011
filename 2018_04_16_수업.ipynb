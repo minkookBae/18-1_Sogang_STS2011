{
 "cells": [
  {
   "cell_type": "code",
   "execution_count": 1,
   "metadata": {
    "collapsed": true
   },
   "outputs": [],
   "source": [
    "import pickle as pk\n",
    "\n",
    "if __name__ == '__main__':\n",
    "    fp = open(\"binary.dat\",\"wb\")\n",
    "    pk.dump(1,fp)\n",
    "    pk.dump(3.14,fp)\n",
    "    pk.dump(\"안녕 C!\",fp)\n",
    "    pk.dump([11,22,33],fp)\n",
    "    pk.dump((11,22,33),fp)\n",
    "    pk.dump({\"line\" : 1,\"rectangle\" : 0 , \"triangle\" : 2}, fp)\n",
    "    \n",
    "    fp.close()"
   ]
  },
  {
   "cell_type": "code",
   "execution_count": 2,
   "metadata": {},
   "outputs": [
    {
     "name": "stdout",
     "output_type": "stream",
     "text": [
      "1\n3.14\n안녕 C!\n[11, 22, 33]\n(11, 22, 33)\n{'line': 1, 'rectangle': 0, 'triangle': 2}\n"
     ]
    }
   ],
   "source": [
    "import pickle as pk\n",
    "\n",
    "if __name__ == '__main__':\n",
    "    fp = open(\"binary.dat\", \"rb\")\n",
    "    for i in range(0,6):\n",
    "        data = pk.load(fp)\n",
    "        print(data)\n",
    "    fp.close()"
   ]
  },
  {
   "cell_type": "code",
   "execution_count": 13,
   "metadata": {
    "collapsed": false
   },
   "outputs": [
    {
     "name": "stdout",
     "output_type": "stream",
     "text": [
      "20130597.py\n3D Objects <DIR>\nairforce.py\nAppData <DIR>\nApplication Data <DIR>\nbattery-report.html\nbinary.dat\ncar_example1.py\nContacts <DIR>\nCookies <DIR>\nDesktop <DIR>\nDocuments <DIR>\nDownloads <DIR>\neclipse <DIR>\neclipse-workspace <DIR>\nFavorites <DIR>\nFileTest.txt\nhello.txt\nhw_20130597.py\ninittk.ini\ninst.ini\nIntelGraphicsProfiles <DIR>\nLinks <DIR>\nLocal Settings <DIR>\nMicrosoftEdgeBackups <DIR>\nMusic <DIR>\nMy Documents <DIR>\nNetHood <DIR>\nNox_share <DIR>\nNTUSER.DAT\nntuser.dat.LOG1\nntuser.dat.LOG2\nNTUSER.DAT{40781020-f308-11e7-bebe-b07864c1b5ec}.TM.blf\nNTUSER.DAT{40781020-f308-11e7-bebe-b07864c1b5ec}.TMContainer00000000000000000001.regtrans-ms\nNTUSER.DAT{40781020-f308-11e7-bebe-b07864c1b5ec}.TMContainer00000000000000000002.regtrans-ms\nntuser.ini\nnuuid.ini\nOneDrive <DIR>\nPictures <DIR>\nPrintHood <DIR>\nPycharmProjects <DIR>\npycharm_workspace <DIR>\nREADME.md\nRecent <DIR>\nRoaming <DIR>\nSaved Games <DIR>\nSearches <DIR>\nSendTo <DIR>\nsource <DIR>\nTemplates <DIR>\nTest.txt\nUntitled.ipynb\nUntitled1.ipynb\nvehicle.py\nVideos <DIR>\nvmlogs <DIR>\nworkspace <DIR>\n__pycache__ <DIR>\n모음의개수.exe\n생활코딩 <DIR>\n시작 메뉴 <DIR>\n알고리즘워크샵 <DIR>\n알고리즘입문 <DIR>\n"
     ]
    }
   ],
   "source": [
    "import glob\n",
    "from os import path\n",
    "\n",
    "a = glob.glob(\"*\")\n",
    "\n",
    "for i in a:\n",
    "    if(path.isdir(i)):\n",
    "        print(\"{} <DIR>\".format(i))\n",
    "    else : print(i)\n"
   ]
  },
  {
   "cell_type": "code",
   "execution_count": 29,
   "metadata": {},
   "outputs": [],
   "source": [
    "fp = open(\"information,txt\", \"w\")\n",
    "\n",
    "fp.write(\"a. 3\\n\")\n",
    "fp.write(\"b. 3.14\\n\")\n",
    "fp.write(\"c. \\\"3.14\\\"\")\n",
    "fp.close()"
   ]
  },
  {
   "cell_type": "code",
   "execution_count": 34,
   "metadata": {},
   "outputs": [
    {
     "name": "stdout",
     "output_type": "stream",
     "text": [
      "a. 3\nb. 3.14\nc. \"3.14\"\n"
     ]
    }
   ],
   "source": [
    "fp = open(\"information,txt\", \"r\")\n",
    "\n",
    "for line in fp.readlines():\n",
    "    print(line.strip())"
   ]
  },
  {
   "cell_type": "code",
   "execution_count": 31,
   "metadata": {},
   "outputs": [],
   "source": [
    "import pickle as pk\n",
    "\n",
    "fp = open(\"information.dat\", \"wb\")\n",
    "\n",
    "pk.dump(\"a. 3\", fp)\n",
    "pk.dump(\"b. 3.14\", fp)\n",
    "pk.dump(\"c. \\\"3.14\\\"\", fp)\n",
    "\n",
    "fp.close()"
   ]
  },
  {
   "cell_type": "code",
   "execution_count": 33,
   "metadata": {},
   "outputs": [
    {
     "name": "stdout",
     "output_type": "stream",
     "text": [
      "a. 3\nb. 3.14\nc. \"3.14\"\n"
     ]
    }
   ],
   "source": [
    "import pickle as pk\n",
    "\n",
    "fp = open(\"information.dat\", \"rb\")\n",
    "\n",
    "for i in range(0, 3):\n",
    "    data = pk.load(fp)\n",
    "    print(data)"
   ]
  },
  {
   "cell_type": "code",
   "execution_count": 35,
   "metadata": {},
   "outputs": [
    {
     "data": {
      "text/plain": [
       "'nt'"
      ]
     },
     "execution_count": 35,
     "metadata": {},
     "output_type": "execute_result"
    }
   ],
   "source": [
    "import os\n",
    "\n",
    "os.name"
   ]
  },
  {
   "cell_type": "code",
   "execution_count": 40,
   "metadata": {},
   "outputs": [
    {
     "data": {
      "text/plain": [
       "'C:\\\\Users\\\\alsrn'"
      ]
     },
     "execution_count": 40,
     "metadata": {},
     "output_type": "execute_result"
    }
   ],
   "source": [
    "import os\n",
    "\n",
    "os.getcwd()"
   ]
  },
  {
   "cell_type": "code",
   "execution_count": 41,
   "metadata": {},
   "outputs": [
    {
     "data": {
      "text/plain": [
       "'C:\\\\Users\\\\alsrn\\\\test'"
      ]
     },
     "execution_count": 41,
     "metadata": {},
     "output_type": "execute_result"
    }
   ],
   "source": [
    "import os\n",
    "\n",
    "os.path.join(os.getcwd(), \"test\")"
   ]
  },
  {
   "cell_type": "code",
   "execution_count": 43,
   "metadata": {},
   "outputs": [
    {
     "data": {
      "text/plain": [
       "'C:\\\\Users\\\\alsrn'"
      ]
     },
     "execution_count": 43,
     "metadata": {},
     "output_type": "execute_result"
    }
   ],
   "source": [
    "import os\n",
    "\n",
    "os.getcwd()"
   ]
  },
  {
   "cell_type": "code",
   "execution_count": 50,
   "metadata": {},
   "outputs": [
    {
     "data": {
      "text/plain": [
       "'nt'"
      ]
     },
     "execution_count": 50,
     "metadata": {},
     "output_type": "execute_result"
    }
   ],
   "source": [
    "import os\n",
    "os.name"
   ]
  },
  {
   "cell_type": "code",
   "execution_count": 51,
   "metadata": {},
   "outputs": [
    {
     "data": {
      "text/plain": [
       "'C:\\\\Users\\\\alsrn'"
      ]
     },
     "execution_count": 51,
     "metadata": {},
     "output_type": "execute_result"
    }
   ],
   "source": [
    "os.getcwd()"
   ]
  },
  {
   "cell_type": "code",
   "execution_count": 55,
   "metadata": {},
   "outputs": [
    {
     "data": {
      "text/plain": [
       "['.anaconda',\n '.android',\n '.astropy',\n '.BigNox',\n '.conda',\n '.condarc',\n '.eclipse',\n '.ipynb_checkpoints',\n '.ipython',\n '.jupyter',\n '.matplotlib',\n '.p2',\n '.PyCharm2017.3',\n '.PyCharm2018.1',\n '.spyder-py3',\n '.tooling',\n '.twitter_oauth',\n '20130597.py',\n '3D Objects',\n 'airforce.py',\n 'AppData',\n 'Application Data',\n 'battery-report.html',\n 'binary.dat',\n 'car_example1.py',\n 'Contacts',\n 'Cookies',\n 'Desktop',\n 'Documents',\n 'Downloads',\n 'eclipse',\n 'eclipse-workspace',\n 'Favorites',\n 'FileTest.txt',\n 'hello.txt',\n 'hw_20130597.py',\n 'information,txt',\n 'information.dat',\n 'inittk.ini',\n 'inst.ini',\n 'IntelGraphicsProfiles',\n 'Links',\n 'Local Settings',\n 'MicrosoftEdgeBackups',\n 'Music',\n 'My Documents',\n 'NetHood',\n 'Nox_share',\n 'NTUSER.DAT',\n 'ntuser.dat.LOG1',\n 'ntuser.dat.LOG2',\n 'NTUSER.DAT{40781020-f308-11e7-bebe-b07864c1b5ec}.TM.blf',\n 'NTUSER.DAT{40781020-f308-11e7-bebe-b07864c1b5ec}.TMContainer00000000000000000001.regtrans-ms',\n 'NTUSER.DAT{40781020-f308-11e7-bebe-b07864c1b5ec}.TMContainer00000000000000000002.regtrans-ms',\n 'ntuser.ini',\n 'nuuid.ini',\n 'OneDrive',\n 'Pictures',\n 'PrintHood',\n 'PycharmProjects',\n 'pycharm_workspace',\n 'README.md',\n 'Recent',\n 'Roaming',\n 'Saved Games',\n 'Searches',\n 'SendTo',\n 'source',\n 'Templates',\n 'Test.txt',\n 'Untitled.ipynb',\n 'Untitled1.ipynb',\n 'vehicle.py',\n 'Videos',\n 'vmlogs',\n 'workspace',\n '__pycache__',\n '모음의개수.exe',\n '생활코딩',\n '시작 메뉴',\n '알고리즘워크샵',\n '알고리즘입문']"
      ]
     },
     "execution_count": 55,
     "metadata": {},
     "output_type": "execute_result"
    }
   ],
   "source": [
    "os.listdir()"
   ]
  },
  {
   "cell_type": "code",
   "execution_count": 59,
   "metadata": {},
   "outputs": [
    {
     "ename": "FileNotFoundError",
     "evalue": "[WinError 2] 지정된 파일을 찾을 수 없습니다: 'C:\\\\Users\\\\alsrn\\\\Music\\\\Music'",
     "traceback": [
      "\u001b[1;31m---------------------------------------------------------------------------\u001b[0m",
      "\u001b[1;31mFileNotFoundError\u001b[0m                         Traceback (most recent call last)",
      "\u001b[1;32m<ipython-input-59-923adc5d8d66>\u001b[0m in \u001b[0;36m<module>\u001b[1;34m()\u001b[0m\n\u001b[1;32m----> 1\u001b[1;33m \u001b[0mos\u001b[0m\u001b[1;33m.\u001b[0m\u001b[0mchdir\u001b[0m\u001b[1;33m(\u001b[0m\u001b[0mos\u001b[0m\u001b[1;33m.\u001b[0m\u001b[0mgetcwd\u001b[0m\u001b[1;33m(\u001b[0m\u001b[1;33m)\u001b[0m\u001b[1;33m+\u001b[0m\u001b[1;34m\"\\Music\"\u001b[0m\u001b[1;33m)\u001b[0m\u001b[1;33m\u001b[0m\u001b[0m\n\u001b[0m",
      "\u001b[1;31mFileNotFoundError\u001b[0m: [WinError 2] 지정된 파일을 찾을 수 없습니다: 'C:\\\\Users\\\\alsrn\\\\Music\\\\Music'"
     ],
     "output_type": "error"
    }
   ],
   "source": [
    "os.chdir(os.getcwd()+\"\\Music\")"
   ]
  },
  {
   "cell_type": "code",
   "execution_count": 61,
   "metadata": {},
   "outputs": [
    {
     "data": {
      "text/plain": [
       "'C:\\\\Users\\\\alsrn\\\\Music'"
      ]
     },
     "execution_count": 61,
     "metadata": {},
     "output_type": "execute_result"
    }
   ],
   "source": [
    "os.getcwd()"
   ]
  },
  {
   "cell_type": "code",
   "execution_count": 62,
   "metadata": {},
   "outputs": [
    {
     "data": {
      "text/plain": [
       "'C:\\\\Users\\\\alsrn\\\\Music\\\\Minkook'"
      ]
     },
     "execution_count": 62,
     "metadata": {},
     "output_type": "execute_result"
    }
   ],
   "source": [
    "os.path.join(os.getcwd(),\"Minkook\")"
   ]
  },
  {
   "cell_type": "code",
   "execution_count": 63,
   "metadata": {},
   "outputs": [
    {
     "data": {
      "text/plain": [
       "'C:\\\\Users\\\\alsrn\\\\Music'"
      ]
     },
     "execution_count": 63,
     "metadata": {},
     "output_type": "execute_result"
    }
   ],
   "source": [
    "os.getcwd()"
   ]
  },
  {
   "cell_type": "code",
   "execution_count": 64,
   "metadata": {},
   "outputs": [
    {
     "data": {
      "text/plain": [
       "'C:\\\\Users\\\\alsrn\\\\Music'"
      ]
     },
     "execution_count": 64,
     "metadata": {},
     "output_type": "execute_result"
    }
   ],
   "source": [
    "os.getcwd()"
   ]
  },
  {
   "cell_type": "code",
   "execution_count": 66,
   "metadata": {},
   "outputs": [],
   "source": [
    "os.chdir(\"C:\\\\Users\\\\alsrn\")"
   ]
  },
  {
   "cell_type": "code",
   "execution_count": 68,
   "metadata": {},
   "outputs": [
    {
     "data": {
      "text/plain": [
       "'C:\\\\Users\\\\alsrn'"
      ]
     },
     "execution_count": 68,
     "metadata": {},
     "output_type": "execute_result"
    }
   ],
   "source": [
    "os.getcwd()"
   ]
  },
  {
   "cell_type": "code",
   "execution_count": 69,
   "metadata": {},
   "outputs": [
    {
     "name": "stdout",
     "output_type": "stream",
     "text": [
      "Writing command_arguments.py\n"
     ]
    }
   ],
   "source": [
    "%%writefile command_arguments.py\n",
    "\n",
    "import sys\n",
    "if __name__ == '__main__':\n",
    "    print(\"명령행 인자의 개수 : \",len(sys.argv))\n",
    "    \n",
    "    for item in sys.argv:\n",
    "        print(item)"
   ]
  },
  {
   "cell_type": "code",
   "execution_count": 70,
   "metadata": {},
   "outputs": [
    {
     "name": "stdout",
     "output_type": "stream",
     "text": [
      "명령행 인자의 개수 :  4\ncommand_arguments.py\n1\n2\nHello\n"
     ]
    }
   ],
   "source": [
    "%run command_arguments.py 1 2 \"Hello\""
   ]
  },
  {
   "cell_type": "code",
   "execution_count": 71,
   "metadata": {},
   "outputs": [
    {
     "data": {
      "text/plain": [
       "'Copyright (c) 2001-2017 Python Software Foundation.\\nAll Rights Reserved.\\n\\nCopyright (c) 2000 BeOpen.com.\\nAll Rights Reserved.\\n\\nCopyright (c) 1995-2001 Corporation for National Research Initiatives.\\nAll Rights Reserved.\\n\\nCopyright (c) 1991-1995 Stichting Mathematisch Centrum, Amsterdam.\\nAll Rights Reserved.'"
      ]
     },
     "execution_count": 71,
     "metadata": {},
     "output_type": "execute_result"
    }
   ],
   "source": [
    "sys.copyright"
   ]
  },
  {
   "cell_type": "code",
   "execution_count": 73,
   "metadata": {},
   "outputs": [
    {
     "data": {
      "text/plain": [
       "'3.6.3 |Anaconda custom (64-bit)| (default, Oct 15 2017, 03:27:45) [MSC v.1900 64 bit (AMD64)]'"
      ]
     },
     "execution_count": 73,
     "metadata": {},
     "output_type": "execute_result"
    }
   ],
   "source": [
    "sys.version"
   ]
  },
  {
   "cell_type": "code",
   "execution_count": 74,
   "metadata": {},
   "outputs": [
    {
     "data": {
      "text/plain": [
       "<_io.TextIOWrapper name='<stdin>' mode='r' encoding='949'>"
      ]
     },
     "execution_count": 74,
     "metadata": {},
     "output_type": "execute_result"
    }
   ],
   "source": [
    "sys.stdin"
   ]
  },
  {
   "cell_type": "code",
   "execution_count": 75,
   "metadata": {},
   "outputs": [
    {
     "data": {
      "text/plain": [
       "<ipykernel.iostream.OutStream at 0x17f46da7828>"
      ]
     },
     "execution_count": 75,
     "metadata": {},
     "output_type": "execute_result"
    }
   ],
   "source": [
    "sys.stdout"
   ]
  },
  {
   "cell_type": "code",
   "execution_count": 76,
   "metadata": {},
   "outputs": [
    {
     "data": {
      "text/plain": [
       "<ipykernel.iostream.OutStream at 0x17f46da7400>"
      ]
     },
     "execution_count": 76,
     "metadata": {},
     "output_type": "execute_result"
    }
   ],
   "source": [
    "sys.stderr"
   ]
  },
  {
   "cell_type": "code",
   "execution_count": null,
   "metadata": {},
   "outputs": [],
   "source": []
  }
 ],
 "metadata": {
  "kernelspec": {
   "display_name": "Python 2",
   "language": "python",
   "name": "python2"
  },
  "language_info": {
   "codemirror_mode": {
    "name": "ipython",
    "version": 2
   },
   "file_extension": ".py",
   "mimetype": "text/x-python",
   "name": "python",
   "nbconvert_exporter": "python",
   "pygments_lexer": "ipython2",
   "version": "2.7.6"
  }
 },
 "nbformat": 4,
 "nbformat_minor": 0
}
