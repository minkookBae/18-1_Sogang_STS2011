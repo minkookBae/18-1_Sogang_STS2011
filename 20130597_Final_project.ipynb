{
 "cells": [
  {
   "cell_type": "code",
   "execution_count": 1,
   "metadata": {},
   "outputs": [
    {
     "name": "stdout",
     "output_type": "stream",
     "text": [
      "111 일반열람실의 총 좌석수 : 65, 현재 사용중 좌석 수 : 11, 남은 좌석 수 : 54\n",
      "112 일반열람실의 총 좌석수 : 61, 현재 사용중 좌석 수 : 9, 남은 좌석 수 : 52\n",
      "113 일반열람실의 총 좌석수 : 66, 현재 사용중 좌석 수 : 23, 남은 좌석 수 : 43\n",
      "133 일반열람실의 총 좌석수 : 168, 현재 사용중 좌석 수 : 38, 남은 좌석 수 : 130\n",
      "K관 열람실의 총 좌석수 : 311, 현재 사용중 좌석 수 : 44, 남은 좌석 수 : 267\n",
      "X관 대학원열람실의 총 좌석수 : 85, 현재 사용중 좌석 수 : 26, 남은 좌석 수 : 59\n",
      "PA관 열람실의 총 좌석수 : 101, 현재 사용중 좌석 수 : 13, 남은 좌석 수 : 88\n",
      "J관 일반열람실의 총 좌석수 : 207, 현재 사용중 좌석 수 : 42, 남은 좌석 수 : 165\n",
      "J관 노트북전용실의 총 좌석수 : 92, 현재 사용중 좌석 수 : 26, 남은 좌석 수 : 66\n"
     ]
    }
   ],
   "source": [
    "#데이터 크롤링 후 좌석현황 사전 구성\n",
    "\n",
    "from urllib.request import urlopen\n",
    "import re\n",
    "from bs4 import BeautifulSoup\n",
    "import matplotlib.pyplot as plt\n",
    "from matplotlib import font_manager, rc\n",
    "import datetime\n",
    "import pandas as pd\n",
    "\n",
    "\n",
    "def get_html(url):\n",
    "    f = urlopen(url)\n",
    "    bsObj = BeautifulSoup(f, 'lxml-xml')\n",
    "    return bsObj\n",
    "\n",
    "\n",
    "def make_dic(obj):\n",
    "    a = obj.find_all(\"A\")\n",
    "    \n",
    "    list1 = []\n",
    "    for i in a:\n",
    "        list1.append(str(i))\n",
    "    lib_seat = {}\n",
    "    p = re.compile(r\"(?<=>).*(?=</A>)\")\n",
    "    for i in list1:\n",
    "        a = p.search(i).group()\n",
    "        if a not in lib_seat:\n",
    "            lib_seat[a] = {}\n",
    "    return lib_seat\n",
    "\n",
    "\n",
    "def cal_all(lib_seat):\n",
    "    a = obj.find_all(\"TR\")\n",
    "    b = str(a[3])\n",
    "    b = b.split(\"<FONT COLOR=\\\"blue\\\">\")\n",
    "    \n",
    "    p2 = re.compile(\"(?<=<FONT>-1&gt;)\\d+(?=<font>)\")\n",
    "    for k,v in lib_seat.items():\n",
    "        lib_seat[k][\"all\"] = 0\n",
    "    \n",
    "    for i in range(27):\n",
    "        if(i%3 == 1):\n",
    "            c = p2.search(b[i]).group()\n",
    "            for k,v in lib_seat.items():\n",
    "                if(lib_seat[k][\"all\"] == 0):\n",
    "                    lib_seat[k][\"all\"] = int(c)\n",
    "                    break\n",
    "\n",
    "\n",
    "def cal_now(lib_seat):\n",
    "    a = obj.find_all(\"TR\")\n",
    "    b = str(a[3])\n",
    "    b = b.split(\"<FONT COLOR=\\\"blue\\\">\")\n",
    "    \n",
    "    p2 = re.compile(\"(?<=<FONT>-1&gt;)\\d+(?=</FONT>)\")\n",
    "    for k,v in lib_seat.items():\n",
    "        lib_seat[k][\"now\"] = 0\n",
    "    \n",
    "    for i in range(27):\n",
    "        if(i%3 == 1):\n",
    "            c = p2.search(b[i]).group()\n",
    "            for k,v in lib_seat.items():\n",
    "                if(lib_seat[k][\"now\"] == 0):\n",
    "                    lib_seat[k][\"now\"] = int(c)\n",
    "                    break\n",
    "                    \n",
    "                    \n",
    "def cal_extra(lib_seat):\n",
    "    a = obj.find_all(\"TR\")\n",
    "    b = str(a[3])\n",
    "    b = b.split(\"<FONT COLOR=\\\"blue\\\">\")\n",
    "    \n",
    "    p2 = re.compile(\"\\d+(?=</FONT>)\")\n",
    "    for k,v in lib_seat.items():\n",
    "        lib_seat[k][\"extra\"] = 0\n",
    "    \n",
    "    for i in range(27):\n",
    "        if(i%3 == 2):\n",
    "            c = p2.search(b[i]).group()\n",
    "            for k,v in lib_seat.items():\n",
    "                if(lib_seat[k][\"extra\"] == 0):\n",
    "                    lib_seat[k][\"extra\"] = int(c)\n",
    "                    break\n",
    "\n",
    "\n",
    "if __name__ == '__main__':\n",
    "    html = \"http://libseat.sogang.ac.kr/seat/domian5.asp\"\n",
    "    obj = get_html(html)\n",
    "    lib_seat = make_dic(obj)\n",
    "    cal_all(lib_seat)\n",
    "    cal_now(lib_seat)\n",
    "    cal_extra(lib_seat)\n",
    "    \n",
    "    for k,v in lib_seat.items():\n",
    "        print(\"{}의 총 좌석수 : {}, 현재 사용중 좌석 수 : {}, 남은 좌석 수 : {}\".format(k,v[\"all\"],v[\"now\"],v[\"extra\"]))"
   ]
  },
  {
   "cell_type": "code",
   "execution_count": 2,
   "metadata": {
    "collapsed": true
   },
   "outputs": [],
   "source": [
    "#DataFrame 구성을 쉽게 하기 위해 raw_data 사전 구성\n",
    "\n",
    "name_index = []\n",
    "all_list = []\n",
    "now_list = []\n",
    "extra_list = []\n",
    "percent_list = []\n",
    "\n",
    "for k in lib_seat.keys():\n",
    "    name_index.append(k)\n",
    "    all_list.append(lib_seat[k]['all'])\n",
    "    now_list.append(lib_seat[k]['now'])\n",
    "    extra_list.append((lib_seat[k]['extra']))\n",
    "    percent_list.append(lib_seat[k]['now']/lib_seat[k]['all'])\n",
    "    \n",
    "raw_data = {\n",
    "    'all' :all_list,\n",
    "    \"now\" :now_list,\n",
    "    \"extra\":extra_list,\n",
    "    \"percent\" : percent_list\n",
    "}"
   ]
  },
  {
   "cell_type": "code",
   "execution_count": 3,
   "metadata": {},
   "outputs": [],
   "source": [
    "#pandas DF 생성\n",
    "df = pd.DataFrame(raw_data,index=name_index)\n",
    "df1 = pd.DataFrame(raw_data[\"percent\"],index=name_index)"
   ]
  },
  {
   "cell_type": "code",
   "execution_count": 4,
   "metadata": {},
   "outputs": [
    {
     "data": {
      "text/html": [
       "<div>\n",
       "<style scoped>\n",
       "    .dataframe tbody tr th:only-of-type {\n",
       "        vertical-align: middle;\n",
       "    }\n",
       "\n",
       "    .dataframe tbody tr th {\n",
       "        vertical-align: top;\n",
       "    }\n",
       "\n",
       "    .dataframe thead th {\n",
       "        text-align: right;\n",
       "    }\n",
       "</style>\n",
       "<table border=\"1\" class=\"dataframe\">\n",
       "  <thead>\n",
       "    <tr style=\"text-align: right;\">\n",
       "      <th></th>\n",
       "      <th>all</th>\n",
       "      <th>extra</th>\n",
       "      <th>now</th>\n",
       "      <th>percent</th>\n",
       "    </tr>\n",
       "  </thead>\n",
       "  <tbody>\n",
       "    <tr>\n",
       "      <th>111 일반열람실</th>\n",
       "      <td>65</td>\n",
       "      <td>54</td>\n",
       "      <td>11</td>\n",
       "      <td>0.169231</td>\n",
       "    </tr>\n",
       "    <tr>\n",
       "      <th>112 일반열람실</th>\n",
       "      <td>61</td>\n",
       "      <td>52</td>\n",
       "      <td>9</td>\n",
       "      <td>0.147541</td>\n",
       "    </tr>\n",
       "    <tr>\n",
       "      <th>113 일반열람실</th>\n",
       "      <td>66</td>\n",
       "      <td>43</td>\n",
       "      <td>23</td>\n",
       "      <td>0.348485</td>\n",
       "    </tr>\n",
       "    <tr>\n",
       "      <th>133 일반열람실</th>\n",
       "      <td>168</td>\n",
       "      <td>130</td>\n",
       "      <td>38</td>\n",
       "      <td>0.226190</td>\n",
       "    </tr>\n",
       "    <tr>\n",
       "      <th>K관 열람실</th>\n",
       "      <td>311</td>\n",
       "      <td>267</td>\n",
       "      <td>44</td>\n",
       "      <td>0.141479</td>\n",
       "    </tr>\n",
       "    <tr>\n",
       "      <th>X관 대학원열람실</th>\n",
       "      <td>85</td>\n",
       "      <td>59</td>\n",
       "      <td>26</td>\n",
       "      <td>0.305882</td>\n",
       "    </tr>\n",
       "    <tr>\n",
       "      <th>PA관 열람실</th>\n",
       "      <td>101</td>\n",
       "      <td>88</td>\n",
       "      <td>13</td>\n",
       "      <td>0.128713</td>\n",
       "    </tr>\n",
       "    <tr>\n",
       "      <th>J관 일반열람실</th>\n",
       "      <td>207</td>\n",
       "      <td>165</td>\n",
       "      <td>42</td>\n",
       "      <td>0.202899</td>\n",
       "    </tr>\n",
       "    <tr>\n",
       "      <th>J관 노트북전용실</th>\n",
       "      <td>92</td>\n",
       "      <td>66</td>\n",
       "      <td>26</td>\n",
       "      <td>0.282609</td>\n",
       "    </tr>\n",
       "  </tbody>\n",
       "</table>\n",
       "</div>"
      ],
      "text/plain": [
       "           all  extra  now   percent\n",
       "111 일반열람실   65     54   11  0.169231\n",
       "112 일반열람실   61     52    9  0.147541\n",
       "113 일반열람실   66     43   23  0.348485\n",
       "133 일반열람실  168    130   38  0.226190\n",
       "K관 열람실     311    267   44  0.141479\n",
       "X관 대학원열람실   85     59   26  0.305882\n",
       "PA관 열람실    101     88   13  0.128713\n",
       "J관 일반열람실   207    165   42  0.202899\n",
       "J관 노트북전용실   92     66   26  0.282609"
      ]
     },
     "execution_count": 4,
     "metadata": {},
     "output_type": "execute_result"
    }
   ],
   "source": [
    "df"
   ]
  },
  {
   "cell_type": "code",
   "execution_count": 5,
   "metadata": {},
   "outputs": [
    {
     "data": {
      "image/png": "[encoded data removed]",
      "text/plain": [
       "<matplotlib.figure.Figure at 0x2bf313dea58>"
      ]
     },
     "metadata": {},
     "output_type": "display_data"
    }
   ],
   "source": [
    "#열람실 사용률 현황 그래프\n",
    "font_name = font_manager.FontProperties(fname=\"c:/Windows/Fonts/malgun.ttf\").get_name()\n",
    "rc('font', family=font_name)\n",
    "dt = datetime.datetime.now()\n",
    "nowDatetime = dt.strftime('%Y-%m-%d %H:%M:%S')\n",
    "\n",
    "df1.plot(xticks=[0,0.5,1],kind=\"barh\",legend=False,color=\"bg\")\n",
    "plt.title(\"{} 현재\\n서강대학교 열람실 사용률 현황\".format(nowDatetime))\n",
    "plt.xticks(fontsize=0)\n",
    "i=0\n",
    "for v in raw_data[\"percent\"]:\n",
    "    plt.text( v + 0.01, i-0.1 , str(round(v*100,1))+\"%\", color='k', fontweight='bold')\n",
    "    i+=1\n",
    "\n",
    "plt.show()"
   ]
  },
  {
   "cell_type": "code",
   "execution_count": 6,
   "metadata": {},
   "outputs": [
    {
     "data": {
      "image/png": "[encoded data removed]",
      "text/plain": [
       "<matplotlib.figure.Figure at 0x2bf313b7c88>"
      ]
     },
     "metadata": {},
     "output_type": "display_data"
    }
   ],
   "source": [
    "#열람실 좌석비율 그래프\n",
    "df[\"all\"].plot(kind=\"pie\",legend=False,autopct=\"%.1f%%\",shadow=True,startangle=240,explode=(0,0,0,0,0.1,0,0,0,0))\n",
    "plt.title(\"서강대학교 열람실 좌석비율\")\n",
    "plt.show()"
   ]
  },
  {
   "cell_type": "code",
   "execution_count": 8,
   "metadata": {},
   "outputs": [
    {
     "name": "stdout",
     "output_type": "stream",
     "text": [
      "열람실 리스트\n",
      "1 : 111 일반열람실\n",
      "2 : 112 일반열람실\n",
      "3 : 113 일반열람실\n",
      "4 : 133 일반열람실\n",
      "5 : K관 열람실\n",
      "6 : X관 대학원열람실\n",
      "7 : PA관 열람실\n",
      "8 : J관 일반열람실\n",
      "9 : J관 노트북전용실\n",
      "어떤 열람실 현황을 알고 싶으신가요?\n",
      " K관 열람실\n",
      "\u001b[1;31mK관 열람실은 총 311석이며 현재 44석 사용중. 267석 비어있습니다.\n"
     ]
    }
   ],
   "source": [
    "#열람실 검색 시스템\n",
    "print(\"열람실 리스트\")\n",
    "BOLD_AND_RED = \"\\033[1;31m\"\n",
    "flag = False\n",
    "count = 1\n",
    "for i in lib_seat.keys():\n",
    "    print(\"{} : {}\".format(count,i))\n",
    "    count+=1\n",
    "where = input(\"어떤 열람실 현황을 알고 싶으신가요?\\n \")\n",
    "while(not flag):\n",
    "    if not where.isdigit():\n",
    "        try:\n",
    "            print(BOLD_AND_RED+\"{}은 총 {}석이며 현재 {}석 사용중. {}석 비어있습니다.\".format(where,lib_seat[where]['all'],lib_seat[where]['now'],lib_seat[where]['extra']))\n",
    "            flag = True\n",
    "        except KeyError:\n",
    "            print(\"{}은 없습니다. 올바른 열람실 명을 입력해주세요\".format(where))\n",
    "            where = input(\"어떤 열람실 현황을 알고 싶으신가요?\\n \")\n",
    "\n",
    "\n",
    "    else:\n",
    "        try:\n",
    "            where2 = df1.index[int(where)-1]\n",
    "            flag = True\n",
    "            print(BOLD_AND_RED+\"{}은 총 {}석이며 현재 {}석 사용중. {}석 비어있습니다.\".format(where2,lib_seat[where2]['all'],lib_seat[where2]['now'],lib_seat[where2]['extra']))\n",
    "        except IndexError:\n",
    "            print(\"서강대학교 열람실은 9개입니다, 1 ~ 9까지의 숫자 혹은 이름을 입력해주세요.\")\n",
    "            where = input(\"어떤 열람실 현황을 알고 싶으신가요?\\n \")\n"
   ]
  },
  {
   "cell_type": "code",
   "execution_count": null,
   "metadata": {},
   "outputs": [],
   "source": []
  },
  {
   "cell_type": "code",
   "execution_count": null,
   "metadata": {
    "collapsed": true
   },
   "outputs": [],
   "source": []
  },
  {
   "cell_type": "code",
   "execution_count": null,
   "metadata": {
    "collapsed": true
   },
   "outputs": [],
   "source": []
  }
 ],
 "metadata": {
  "kernelspec": {
   "display_name": "Python 3",
   "language": "python",
   "name": "python3"
  },
  "language_info": {
   "codemirror_mode": {
    "name": "ipython",
    "version": 3
   },
   "file_extension": ".py",
   "mimetype": "text/x-python",
   "name": "python",
   "nbconvert_exporter": "python",
   "pygments_lexer": "ipython3",
   "version": "3.6.3"
  }
 },
 "nbformat": 4,
 "nbformat_minor": 1
}
