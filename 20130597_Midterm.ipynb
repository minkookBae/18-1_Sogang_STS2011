{
 "cells": [
  {
   "cell_type": "code",
   "execution_count": 1,
   "metadata": {
    "collapsed": true
   },
   "outputs": [],
   "source": [
    "class Student:\n",
    "    def __init__(self, num, name, kor, eng, math):\n",
    "        self._num = num\n",
    "        self._name = name\n",
    "        self._kor = kor\n",
    "        self._eng = eng\n",
    "        self._math = math\n",
    "        self._total = self.kor + self.eng + self.math\n",
    "        self._avg = (self.total) / 3\n",
    "        self._order = 0\n",
    "\n",
    "    @property\n",
    "    def num(self):\n",
    "        return self._num\n",
    "\n",
    "    @property\n",
    "    def name(self):\n",
    "        return self._name\n",
    "\n",
    "    @property\n",
    "    def kor(self):\n",
    "        return self._kor\n",
    "\n",
    "    @property\n",
    "    def eng(self):\n",
    "        return self._eng\n",
    "\n",
    "    @property\n",
    "    def math(self):\n",
    "        return self._math\n",
    "\n",
    "    @property\n",
    "    def total(self):\n",
    "        return self._total\n",
    "\n",
    "    @property\n",
    "    def avg(self):\n",
    "        return self._avg\n",
    "\n",
    "    @property\n",
    "    def order(self):\n",
    "        return self._order\n",
    "\n",
    "    @order.setter\n",
    "    def order(self, value):\n",
    "        self._order = value\n",
    "\n",
    "    def Print_students(self):\n",
    "        print(\"번호 : {}, 이름 : {}, 국어 : {}, 영어: {}, 수학 : {}, 총점 : {}, 평균 : {:03.2f}, 등수 : {}\".format(self.num, self.name,\n",
    "                                                                                                   self.kor, self.eng,\n",
    "                                                                                                   self.math,\n",
    "                                                                                                   self.total, self.avg,\n",
    "                                                                                                   self.order))"
   ]
  },
  {
   "cell_type": "code",
   "execution_count": 2,
   "metadata": {
    "collapsed": true
   },
   "outputs": [],
   "source": [
    "class StudentGradingSystem:\n",
    "    _student = []\n",
    "    _student2 = []\n",
    "    _population = 0\n",
    "    class_total = 0\n",
    "    class_avg = 0\n",
    "    class_math_avg = 0\n",
    "    class_kor_avg = 0\n",
    "    class_eng_avg = 0\n",
    "    class_kor_total = 0\n",
    "    class_eng_total = 0\n",
    "    class_math_total = 0\n",
    "\n",
    "    def __init__(self):\n",
    "        pass\n",
    "\n",
    "    def register_student(self, Student):\n",
    "        StudentGradingSystem._student.append(Student)\n",
    "        StudentGradingSystem._population += 1\n",
    "        StudentGradingSystem.class_total += Student.total\n",
    "        StudentGradingSystem.class_kor_total += Student.kor\n",
    "        StudentGradingSystem.class_eng_total += Student.eng\n",
    "        StudentGradingSystem.class_math_total += Student.math\n",
    "\n",
    "    def process(self):\n",
    "        self.calculate_avg()\n",
    "        self.calculate_eng_avg()\n",
    "        self.calculate_kor_avg()\n",
    "        self.calculate_math_avg()\n",
    "        self.calculate_order()\n",
    "        self.sort_by_order()\n",
    "\n",
    "    @property\n",
    "    def population(self):\n",
    "        return self._population\n",
    "\n",
    "    def calculate_avg(self):\n",
    "        self.class_avg = self.class_total / self._population\n",
    "\n",
    "    def calculate_kor_avg(self):\n",
    "        self.class_kor_avg = self.class_kor_total / self._population\n",
    "\n",
    "    def calculate_eng_avg(self):\n",
    "        self.class_eng_avg = self.class_eng_total / self._population\n",
    "\n",
    "    def calculate_math_avg(self):\n",
    "        self.class_math_avg = self.class_math_total / self._population\n",
    "\n",
    "    def Print_students(self):\n",
    "        for i in StudentGradingSystem._student2:\n",
    "            i.Print_students()\n",
    "\n",
    "    def Print_class_information(self):\n",
    "        print(\"총점 반 평균 : {:.2f}\\n국어 반 평균 : {:.2f}\\n영어 반 평균 : {:.2f}\\n수학 반 평균 : {:.2f}\".format(self.class_avg,\n",
    "                                                                                              self.class_kor_avg,\n",
    "                                                                                              self.class_eng_avg,\n",
    "                                                                                              self.class_math_avg))\n",
    "\n",
    "    def calculate_order(self):\n",
    "        a = []\n",
    "        for i in StudentGradingSystem._student:\n",
    "            a.append(i.total)\n",
    "        a = sorted(a, reverse=True)\n",
    "        for i in StudentGradingSystem._student:\n",
    "            if i.total in a:\n",
    "                i.order = a.index(i.total) + 1\n",
    "\n",
    "    def sort_by_order(self):\n",
    "        check = self.same_check()\n",
    "        if (check):\n",
    "            temp = 1\n",
    "            while temp != self._population + 1 :\n",
    "                for i in StudentGradingSystem._student:\n",
    "                    if i.order == temp:\n",
    "                        StudentGradingSystem._student2.append(i)\n",
    "                        StudentGradingSystem._student.remove(i)\n",
    "                        temp += 1\n",
    "\n",
    "        else :\n",
    "            raise WrongStudentRecord(\"동점자가 있습니다.\")\n",
    "\n",
    "    def same_check(self):\n",
    "        same_check = []\n",
    "        for i in StudentGradingSystem._student:\n",
    "            same_check.append(i.order)\n",
    "        same_check = set(same_check)\n",
    "        if len(same_check) != StudentGradingSystem._population:\n",
    "            return False\n",
    "        else : return True\n"
   ]
  },
  {
   "cell_type": "code",
   "execution_count": 3,
   "metadata": {
    "collapsed": true
   },
   "outputs": [],
   "source": [
    "class WrongStudentRecord(Exception):\n",
    "    def __init__(self, msg):\n",
    "        self._message = msg\n",
    "\n",
    "\n",
    "def check_parameter():\n",
    "    try:\n",
    "        main()\n",
    "    except TypeError:\n",
    "        raise WrongStudentRecord(\"번호, 이름, 국어, 영어, 수학 성적 5개를 입력해주세요\")\n",
    "    except ValueError:\n",
    "        raise WrongStudentRecord(\"시험 점수로는 정수를 입력해주세요\")"
   ]
  },
  {
   "cell_type": "code",
   "execution_count": 4,
   "metadata": {},
   "outputs": [],
   "source": [
    "def checkTime(func):\n",
    "    import time\n",
    "\n",
    "    def newFunc(*args, **kwargs):\n",
    "        start = time.time()\n",
    "        func(*args, **kwargs)\n",
    "        end = time.time()\n",
    "        print(\"\\n실행시간 : \", end - start, \"초\")\n",
    "\n",
    "    return newFunc\n",
    "\n",
    "\n",
    "@checkTime\n",
    "def main():\n",
    "    data = open(\"data.txt\",\"r\",encoding=\"utf-8\")\n",
    "    a = []\n",
    "    for lines in data:\n",
    "        para = lines.split()\n",
    "        para1 = int(para[0])\n",
    "        para2 = para[1]\n",
    "        para3 = int(para[2])\n",
    "        para4 = int(para[3])\n",
    "        para5 = int(para[4])\n",
    "\n",
    "        temp = Student(para1,para2,para3,para4,para5)\n",
    "        a.append(temp)\n",
    "\n",
    "    b = StudentGradingSystem()\n",
    "\n",
    "    for i in a:\n",
    "        if(i.num < 0):\n",
    "            raise WrongStudentRecord(\"{}의 번호 입력오류\".format(i.name))\n",
    "        if (i.eng > 100 or i.eng < 0):\n",
    "            raise WrongStudentRecord(\"{}의 영어성적 입력오류\".format(i.name))\n",
    "        if (i.kor > 100 or i.kor < 0):\n",
    "            raise WrongStudentRecord(\"{}의 국어성적 입력오류\".format(i.name))\n",
    "        if (i.math > 100 or i.math < 0):\n",
    "            raise WrongStudentRecord(\"{}의 수학성적 입력오류\".format(i.name))\n",
    "\n",
    "        b.register_student(i)\n",
    "\n",
    "\n",
    "    b.process()\n",
    "\n",
    "    b.Print_students()\n",
    "    print()\n",
    "    b.Print_class_information()\n",
    "    \n",
    "    from matplotlib import pyplot as plt\n",
    "    for i in range(len(StudentGradingSystem._student2)):\n",
    "        subject = [\"kor\",\"eng\",\"math\"]\n",
    "        grade = [b._student2[i].kor,b._student2[i].eng,b._student2[i].math]\n",
    "        xs = [j + 5 for j, _ in enumerate(subject)]\n",
    "        plt.bar(xs,grade)\n",
    "        plt.ylabel(\"grade\")\n",
    "        plt.title(\"{}'s subject grade\".format(\"#\"+str(b._student2[i].num)+\"'s grade\"))\n",
    "        plt.xticks([j+ 5 for j, _ in enumerate(subject)],subject)\n",
    "        plt.show() \n",
    "        \n",
    "    subject = [\"kor\",\"eng\",\"math\"]\n",
    "    grade = [b.class_kor_avg,b.class_eng_avg,b.class_kor_avg]\n",
    "    xs = [j + 5 for j, _ in enumerate(subject)]\n",
    "    plt.bar(xs,grade)\n",
    "    plt.ylabel(\"grade\")\n",
    "    plt.title(\"class avg grade\")\n",
    "    plt.xticks([j+ 5 for j, _ in enumerate(subject)],subject)\n",
    "    plt.show() "
   ]
  },
  {
   "cell_type": "code",
   "execution_count": 5,
   "metadata": {},
   "outputs": [
    {
     "name": "stdout",
     "output_type": "stream",
     "text": [
      "Overwriting data.txt\n"
     ]
    }
   ],
   "source": [
    "%%writefile data.txt\n",
    "1 홍길일 86 90 91\n",
    "2 홍길이 97 30 96\n",
    "3 홍길삼 78 63 68\n",
    "4 홍길사 37 39 80\n",
    "5 홍길오 69 88 99\n",
    "6 홍길육 37 33 27\n"
   ]
  },
  {
   "cell_type": "code",
   "execution_count": 6,
   "metadata": {},
   "outputs": [
    {
     "name": "stdout",
     "output_type": "stream",
     "text": [
      "번호 : 1, 이름 : 홍길일, 국어 : 86, 영어: 90, 수학 : 91, 총점 : 267, 평균 : 89.00, 등수 : 1\n",
      "번호 : 5, 이름 : 홍길오, 국어 : 69, 영어: 88, 수학 : 99, 총점 : 256, 평균 : 85.33, 등수 : 2\n",
      "번호 : 2, 이름 : 홍길이, 국어 : 97, 영어: 30, 수학 : 96, 총점 : 223, 평균 : 74.33, 등수 : 3\n",
      "번호 : 3, 이름 : 홍길삼, 국어 : 78, 영어: 63, 수학 : 68, 총점 : 209, 평균 : 69.67, 등수 : 4\n",
      "번호 : 4, 이름 : 홍길사, 국어 : 37, 영어: 39, 수학 : 80, 총점 : 156, 평균 : 52.00, 등수 : 5\n",
      "번호 : 6, 이름 : 홍길육, 국어 : 37, 영어: 33, 수학 : 27, 총점 : 97, 평균 : 32.33, 등수 : 6\n",
      "\n",
      "총점 반 평균 : 201.33\n",
      "국어 반 평균 : 67.33\n",
      "영어 반 평균 : 57.17\n",
      "수학 반 평균 : 76.83\n"
     ]
    },
    {
     "data": {
      "image/png": "[encoded data removed]",
      "text/plain": [
       "<matplotlib.figure.Figure at 0x22a87cbdfd0>"
      ]
     },
     "metadata": {},
     "output_type": "display_data"
    },
    {
     "data": {
      "image/png": "[encoded data removed]",
      "text/plain": [
       "<matplotlib.figure.Figure at 0x22a88f00f28>"
      ]
     },
     "metadata": {},
     "output_type": "display_data"
    },
    {
     "data": {
      "image/png": "[encoded data removed]",
      "text/plain": [
       "<matplotlib.figure.Figure at 0x22a88fa6940>"
      ]
     },
     "metadata": {},
     "output_type": "display_data"
    },
    {
     "data": {
      "image/png": "[encoded data removed]",
      "text/plain": [
       "<matplotlib.figure.Figure at 0x22a8911f3c8>"
      ]
     },
     "metadata": {},
     "output_type": "display_data"
    },
    {
     "data": {
      "image/png": "[encoded data removed]",
      "text/plain": [
       "<matplotlib.figure.Figure at 0x22a89178470>"
      ]
     },
     "metadata": {},
     "output_type": "display_data"
    },
    {
     "data": {
      "image/png": "[encoded data removed]",
      "text/plain": [
       "<matplotlib.figure.Figure at 0x22a89425c88>"
      ]
     },
     "metadata": {},
     "output_type": "display_data"
    },
    {
     "data": {
      "image/png": "[encoded data removed]",
      "text/plain": [
       "<matplotlib.figure.Figure at 0x22a8946af98>"
      ]
     },
     "metadata": {},
     "output_type": "display_data"
    },
    {
     "name": "stdout",
     "output_type": "stream",
     "text": [
      "\n",
      "실행시간 :  1.187148094177246 초\n"
     ]
    }
   ],
   "source": [
    "if __name__ == '__main__':\n",
    "    try:\n",
    "        check_parameter()\n",
    "    except WrongStudentRecord as e:\n",
    "        print(e.args[0])\n",
    "        \n",
    "    "
   ]
  },
  {
   "cell_type": "code",
   "execution_count": null,
   "metadata": {},
   "outputs": [],
   "source": []
  },
  {
   "cell_type": "code",
   "execution_count": 7,
   "metadata": {},
   "outputs": [
    {
     "name": "stdout",
     "output_type": "stream",
     "text": [
      "Overwriting Date_weekend.py\n"
     ]
    }
   ],
   "source": [
    "%%writefile Date_weekend.py\n",
    "\n",
    "import sys\n",
    "import datetime\n",
    "\n",
    "if __name__ == '__main__':\n",
    "    A = []\n",
    "    Weekend = {\"Monday\" : \"월요일\",\n",
    "               \"Tuesday\" : \"화요일\",\n",
    "               \"Wednesday\" : \"수요일\",\n",
    "               \"Thursday\" : \"목요일\",\n",
    "               \"Friday\" : \"금요일\",\n",
    "               \"Saturday\" : \"토요일\",\n",
    "               \"Sunday\" : \"일요일\"\n",
    "               }\n",
    "    for items in sys.argv:\n",
    "        A.append(items)\n",
    "    B = []\n",
    "    for i in range(1, 4):\n",
    "        B.append(int(A[i]))\n",
    "    try:\n",
    "        date = datetime.date(B[0],B[1],B[2])\n",
    "            \n",
    "        b = date.strftime(\"%A\")\n",
    "\n",
    "        if b in Weekend:\n",
    "            print(Weekend[b])\n",
    "        \n",
    "    except ValueError:\n",
    "        print(\"알맞은 년월일을 입력해 주세요.\")\n"
   ]
  },
  {
   "cell_type": "code",
   "execution_count": 8,
   "metadata": {},
   "outputs": [
    {
     "name": "stdout",
     "output_type": "stream",
     "text": [
      "일요일\n"
     ]
    }
   ],
   "source": [
    "%run Date_weekend.py 2018 04 29"
   ]
  },
  {
   "cell_type": "code",
   "execution_count": null,
   "metadata": {
    "collapsed": true
   },
   "outputs": [],
   "source": []
  }
 ],
 "metadata": {
  "kernelspec": {
   "display_name": "Python 3",
   "language": "python",
   "name": "python3"
  },
  "language_info": {
   "codemirror_mode": {
    "name": "ipython",
    "version": 3
   },
   "file_extension": ".py",
   "mimetype": "text/x-python",
   "name": "python",
   "nbconvert_exporter": "python",
   "pygments_lexer": "ipython3",
   "version": "3.6.3"
  }
 },
 "nbformat": 4,
 "nbformat_minor": 2
}
