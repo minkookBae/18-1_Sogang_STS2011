{
 "cells": [
  {
   "cell_type": "code",
   "execution_count": 1,
   "metadata": {
    "collapsed": true
   },
   "outputs": [],
   "source": [
    "class IceCream:\n",
    "    def __init__(self,name,price):\n",
    "        self.name = name\n",
    "        self.price = price\n",
    "        print(name + \"의 가격은 \"+ str(price) + \"원 입니다.\")"
   ]
  },
  {
   "cell_type": "code",
   "execution_count": 1,
   "metadata": {
    "collapsed": true
   },
   "outputs": [],
   "source": [
    "class Account:\n",
    "    num_accounts = 0\n",
    "    def __init__(self,name):\n",
    "        self.name = name\n",
    "        Account.num_accounts += 1\n",
    "    def __del__(self):\n",
    "        Account.num_accounts +=1"
   ]
  },
  {
   "cell_type": "code",
   "execution_count": 2,
   "metadata": {
    "collapsed": true
   },
   "outputs": [],
   "source": [
    "kim = Account(\"김진성\")"
   ]
  },
  {
   "cell_type": "code",
   "execution_count": 3,
   "metadata": {},
   "outputs": [
    {
     "data": {
      "text/plain": [
       "'김진성'"
      ]
     },
     "execution_count": 3,
     "metadata": {},
     "output_type": "execute_result"
    }
   ],
   "source": [
    "kim.name"
   ]
  },
  {
   "cell_type": "code",
   "execution_count": 36,
   "metadata": {
    "collapsed": true
   },
   "outputs": [],
   "source": [
    ""
   ]
  },
  {
   "cell_type": "code",
   "execution_count": 40,
   "metadata": {
    "collapsed": true
   },
   "outputs": [],
   "source": [
    "class Radio:\n",
    "    def __init__(self):\n",
    "        print(\"라디오가 생성되었습니다\")\n",
    "    def turn_on(self):\n",
    "        print(\"라디오를 켠다\")\n",
    "    def turn_off(self):\n",
    "        print(\"라디오를 끈다\")\n",
    "\n",
    "class Car:\n",
    "    def __init__(self):\n",
    "        self._speed = 0\n",
    "        print(\"자동차가 생성되었습니다.\")\n",
    "        self.radio = Radio()\n",
    "        \n",
    "    def get_speed(self):\n",
    "        return self._speed\n",
    "    \n",
    "    def start(self):\n",
    "        self._speed = 20\n",
    "        print(\"자동차가 출발합니다\")\n",
    "        \n",
    "    def accelerate(self):\n",
    "        self._speed += 30\n",
    "        print(\"자동차가 가속합니다\")\n",
    "        \n",
    "    def stop(self):\n",
    "        self._speed = 0\n",
    "        print(\"자동차가 정지합니다\")\n",
    "        \n",
    "    def turn_on_radio(self):\n",
    "        self.radio.turn_on()\n",
    "        \n",
    "    def turn_off_radio(self):\n",
    "        self.radio.turn_off()"
   ]
  },
  {
   "cell_type": "code",
   "execution_count": 41,
   "metadata": {},
   "outputs": [
    {
     "name": "stdout",
     "output_type": "stream",
     "text": [
      "자동차가 생성되었습니다.\n라디오가 생성되었습니다\n라디오를 켠다\n자동차가 출발합니다\n20\n자동차가 가속합니다\n50\n자동차가 정지합니다\n0\n라디오를 끈다\n"
     ]
    }
   ],
   "source": [
    "Jenesis = Car()\n",
    "Jenesis.turn_on_radio()\n",
    "Jenesis.start()\n",
    "print(Jenesis.get_speed())\n",
    "Jenesis.accelerate()\n",
    "print(Jenesis.get_speed())\n",
    "Jenesis.stop()\n",
    "print(Jenesis.get_speed())\n",
    "Jenesis.turn_off_radio()"
   ]
  },
  {
   "cell_type": "code",
   "execution_count": 42,
   "metadata": {},
   "outputs": [
    {
     "data": {
      "text/plain": [
       "int"
      ]
     },
     "execution_count": 42,
     "metadata": {},
     "output_type": "execute_result"
    }
   ],
   "source": [
    "type(1)"
   ]
  },
  {
   "cell_type": "code",
   "execution_count": 34,
   "metadata": {},
   "outputs": [
    {
     "data": {
      "text/plain": [
       "True"
      ]
     },
     "execution_count": 34,
     "metadata": {},
     "output_type": "execute_result"
    }
   ],
   "source": [
    "isinstance(Jenesis,Car)"
   ]
  },
  {
   "cell_type": "code",
   "execution_count": 46,
   "metadata": {},
   "outputs": [
    {
     "name": "stdout",
     "output_type": "stream",
     "text": [
      "2000\n0\n"
     ]
    },
    {
     "ename": "AttributeError",
     "evalue": "'Car2' object has no attribute '__color'",
     "traceback": [
      "\u001b[1;31m---------------------------------------------------------------------------\u001b[0m",
      "\u001b[1;31mAttributeError\u001b[0m                            Traceback (most recent call last)",
      "\u001b[1;32m<ipython-input-46-3325c1ea3daa>\u001b[0m in \u001b[0;36m<module>\u001b[1;34m()\u001b[0m\n\u001b[0;32m      9\u001b[0m     \u001b[0mprint\u001b[0m\u001b[1;33m(\u001b[0m\u001b[0mmy_car\u001b[0m\u001b[1;33m.\u001b[0m\u001b[0mprice\u001b[0m\u001b[1;33m)\u001b[0m\u001b[1;33m\u001b[0m\u001b[0m\n\u001b[0;32m     10\u001b[0m     \u001b[0mprint\u001b[0m\u001b[1;33m(\u001b[0m\u001b[0mmy_car\u001b[0m\u001b[1;33m.\u001b[0m\u001b[0m_speed\u001b[0m\u001b[1;33m)\u001b[0m\u001b[1;33m\u001b[0m\u001b[0m\n\u001b[1;32m---> 11\u001b[1;33m     \u001b[0mprint\u001b[0m\u001b[1;33m(\u001b[0m\u001b[0mmy_car\u001b[0m\u001b[1;33m.\u001b[0m\u001b[0m__color\u001b[0m\u001b[1;33m)\u001b[0m\u001b[1;33m\u001b[0m\u001b[0m\n\u001b[0m\u001b[0;32m     12\u001b[0m \u001b[1;33m\u001b[0m\u001b[0m\n",
      "\u001b[1;31mAttributeError\u001b[0m: 'Car2' object has no attribute '__color'"
     ],
     "output_type": "error"
    }
   ],
   "source": [
    "class Car2:\n",
    "    def __init__(self):\n",
    "        self.price = 2000\n",
    "        self._speed = 0\n",
    "        self.__color = \"red\"\n",
    "    \n",
    "if __name__ == '__main__':\n",
    "    my_car = Car2()\n",
    "    print(my_car.price)\n",
    "    print(my_car._speed)\n",
    "    print(my_car.__color)\n",
    "        "
   ]
  },
  {
   "cell_type": "code",
   "execution_count": 47,
   "metadata": {},
   "outputs": [
    {
     "name": "stdout",
     "output_type": "stream",
     "text": [
      "가격 :  2000\n속도 :  20\n색상 :  red\n"
     ]
    }
   ],
   "source": [
    "class Car:\n",
    "    def __init__(self):\n",
    "        self._price = 0\n",
    "        self._speed = 0\n",
    "        self._color = \"\"\n",
    "    \n",
    "    def get_price(self):\n",
    "        return self._price\n",
    "    \n",
    "    def set_price(self,value):\n",
    "        self._price = value\n",
    "        \n",
    "    def get_speed(self):\n",
    "        return self._speed\n",
    "    \n",
    "    def set_speed(self,value):\n",
    "        self._speed = value\n",
    "    \n",
    "    def get_color(self):\n",
    "        return self._color\n",
    "    \n",
    "    def set_color(self,value):\n",
    "        self._color = value\n",
    "        \n",
    "if __name__ == '__main__':\n",
    "    my_car = Car()\n",
    "    my_car.set_price(2000)\n",
    "    my_car.set_speed(20)\n",
    "    my_car.set_color(\"red\")\n",
    "    \n",
    "    print(\"가격 : \",my_car.get_price())\n",
    "    print(\"속도 : \",my_car.get_speed())\n",
    "    print(\"색상 : \",my_car.get_color())"
   ]
  },
  {
   "cell_type": "code",
   "execution_count": 56,
   "metadata": {},
   "outputs": [
    {
     "name": "stdout",
     "output_type": "stream",
     "text": [
      "가격 :  2000\n속도 :  20\n색상 :  red\n"
     ]
    }
   ],
   "source": [
    "#car_property\n",
    "\n",
    "class Car:\n",
    "    def __init__(self):\n",
    "        self._price = 0\n",
    "        self._speed = 0\n",
    "        self._color = \"\"\n",
    "        \n",
    "    @property\n",
    "    def price(self):\n",
    "        return self._price\n",
    "    \n",
    "    @price.setter\n",
    "    def price(self,value):\n",
    "        self._price = value\n",
    "    \n",
    "    @property\n",
    "    def speed(self):\n",
    "        return self._speed\n",
    "    \n",
    "    @speed.setter\n",
    "    def speed(self,value):\n",
    "        self._speed = value\n",
    "    \n",
    "    @property\n",
    "    def color(self):\n",
    "        return self._color\n",
    "    \n",
    "    @color.setter\n",
    "    def color(self,value):\n",
    "        self._color = value\n",
    "\n",
    "if __name__ == '__main__':\n",
    "    my_car = Car()\n",
    "    my_car.price = 2000\n",
    "    my_car.speed = 20\n",
    "    my_car.color = \"red\"\n",
    "    \n",
    "    print(\"가격 : \",my_car.price)\n",
    "    print(\"속도 : \",my_car.speed)\n",
    "    print(\"색상 : \",my_car.color)"
   ]
  },
  {
   "cell_type": "code",
   "execution_count": null,
   "metadata": {},
   "outputs": [],
   "source": []
  }
 ],
 "metadata": {
  "kernelspec": {
   "display_name": "Python 3",
   "language": "python",
   "name": "python3"
  },
  "language_info": {
   "codemirror_mode": {
    "name": "ipython",
    "version": 3
   },
   "file_extension": ".py",
   "mimetype": "text/x-python",
   "name": "python",
   "nbconvert_exporter": "python",
   "pygments_lexer": "ipython3",
   "version": "3.6.3"
  }
 },
 "nbformat": 4,
 "nbformat_minor": 2
}
