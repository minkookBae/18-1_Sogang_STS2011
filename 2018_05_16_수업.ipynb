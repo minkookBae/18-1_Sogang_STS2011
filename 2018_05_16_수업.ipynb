{
 "cells": [
  {
   "cell_type": "code",
   "execution_count": 2,
   "metadata": {
    "collapsed": true
   },
   "outputs": [
    {
     "name": "stdout",
     "output_type": "stream",
     "text": [
      "32\n(0, 32)\n<html><head><title>Title</title>\n(0, 6)\n<html>\n"
     ]
    }
   ],
   "source": [
    "import re\n",
    "\n",
    "s = \"<html><head><title>Title</title>\"\n",
    "print(len(s))\n",
    "\n",
    "print(re.search('<.*>', s).span())\n",
    "print(re.search('<.*>', s).group())\n",
    "\n",
    "print(re.search(\"<.*?>\", s).span())\n",
    "print(re.search('<.*?>', s).group())"
   ]
  },
  {
   "cell_type": "code",
   "execution_count": 8,
   "metadata": {},
   "outputs": [
    {
     "name": "stdout",
     "output_type": "stream",
     "text": [
      "matchObj,.group() :  Cats are smarter than dogs\nmatchObj,.group() :  Cats\nmatchObj,.group() :  smarter than dogs\n"
     ]
    }
   ],
   "source": [
    "import re\n",
    "\n",
    "line = \"Cats are smarter than dogs\"\n",
    "mO = re.match(r\"(.*) are (.*)\",line , re.M|re.I)\n",
    "\n",
    "if mO:\n",
    "    print(\"matchObj,.group() : \",mO.group(0))\n",
    "    print(\"matchObj,.group() : \",mO.group(1))\n",
    "    print(\"matchObj,.group() : \",mO.group(2))\n",
    "else:\n",
    "    print(\"no match\")"
   ]
  },
  {
   "cell_type": "code",
   "execution_count": 22,
   "metadata": {},
   "outputs": [
    {
     "name": "stdout",
     "output_type": "stream",
     "text": [
      "matchObj,.group() :  Cats are smarter than dogs\nmatchObj,.group() :  Cats\nmatchObj,.group() :  smarter\nmatchObj,.group() :  than\nmatchObj,.group() :  dogs\n"
     ]
    }
   ],
   "source": [
    "import re\n",
    "\n",
    "line = \"Cats are smarter than dogs\"\n",
    "mO = re.match(r\"(.*) are (.*?) (.*?) (.*$)\",line , re.M|re.I)\n",
    "\n",
    "if mO:\n",
    "    print(\"matchObj,.group() : \",mO.group(0))\n",
    "    print(\"matchObj,.group() : \",mO.group(1))\n",
    "    print(\"matchObj,.group() : \",mO.group(2))\n",
    "    print(\"matchObj,.group() : \",mO.group(3))\n",
    "    print(\"matchObj,.group() : \",mO.group(4))\n",
    "    \n",
    "else:\n",
    "    print(\"no match\")"
   ]
  },
  {
   "cell_type": "code",
   "execution_count": 27,
   "metadata": {},
   "outputs": [
    {
     "name": "stdout",
     "output_type": "stream",
     "text": [
      "Phone Number :  010-1234-1234 \nPhone Number :  01012341234\n"
     ]
    }
   ],
   "source": [
    "import re\n",
    "\n",
    "phone = \"010-1234-1234 #This is Phone Number\"\n",
    "num = re.sub(r\"#.*$\", \"\", phone)\n",
    "print(\"Phone Number : \", num)\n",
    "\n",
    "num = re.sub(r\"\\D\", \"\", num)\n",
    "print(\"Phone Number : \", num)"
   ]
  },
  {
   "cell_type": "code",
   "execution_count": 34,
   "metadata": {},
   "outputs": [
    {
     "data": {
      "text/plain": [
       "'colour socks and colour socks'"
      ]
     },
     "execution_count": 34,
     "metadata": {},
     "output_type": "execute_result"
    }
   ],
   "source": [
    "import re\n",
    "\n",
    "p = re.compile(\"(blue|white|red)\")\n",
    "data = \"blue socks and red socks\"\n",
    "sub = \"colour\"\n",
    "\n",
    "p.sub(sub, data, count=2)"
   ]
  },
  {
   "cell_type": "code",
   "execution_count": 56,
   "metadata": {},
   "outputs": [
    {
     "name": "stdout",
     "output_type": "stream",
     "text": [
      "010-1234-5678 Seo\n010-1234-5678 Seo\n"
     ]
    }
   ],
   "source": [
    "import re\n",
    "\n",
    "p = re.compile(r\"(?P<name>\\w+) (?P<phone>(\\d+)[-](\\d+)[-](\\d+))\")\n",
    "data = \"Seo 010-1234-5678\"\n",
    "\n",
    "m = p.sub(\"\\g<phone> \\g<name>\", data)\n",
    "print(m)\n",
    "\n",
    "m = p.sub(\"\\g<2> \\g<1>\", data)\n",
    "print(m)"
   ]
  },
  {
   "cell_type": "code",
   "execution_count": 72,
   "metadata": {},
   "outputs": [
    {
     "data": {
      "text/plain": [
       "'Call 0xffd2 for printing, 0xc000 for user code.'"
      ]
     },
     "execution_count": 72,
     "metadata": {},
     "output_type": "execute_result"
    }
   ],
   "source": [
    "import re\n",
    "\n",
    "\n",
    "def hexrepl(match):\n",
    "    \"Return the hex string for a decimal number\"\n",
    "    value = int(match.group())\n",
    "    return hex(value)\n",
    "\n",
    "\n",
    "p = re.compile(r\"\\d+\")\n",
    "data = \"Call 65490 for printing, 49152 for user code.\"\n",
    "\n",
    "p.sub(hexrepl, data)"
   ]
  },
  {
   "cell_type": "code",
   "execution_count": 94,
   "metadata": {},
   "outputs": [
    {
     "data": {
      "text/plain": [
       "'Please, square the following number, 9 49 121 169 289 361'"
      ]
     },
     "execution_count": 94,
     "metadata": {},
     "output_type": "execute_result"
    }
   ],
   "source": [
    "import re\n",
    "import math\n",
    "\n",
    "\n",
    "def make_square(match):\n",
    "    value = int(match.group())\n",
    "    return str(int(math.pow(value, 2)))\n",
    "\n",
    "\n",
    "p = re.compile(\"\\d+\")\n",
    "data = \"Please, square the following number, 3 7 11 13 17 19\"\n",
    "\n",
    "p.sub(make_square, data)"
   ]
  },
  {
   "cell_type": "code",
   "execution_count": 101,
   "metadata": {},
   "outputs": [
    {
     "name": "stdout",
     "output_type": "stream",
     "text": [
      "Hello World\nHello Dahl\nHello Moon\n"
     ]
    }
   ],
   "source": [
    "import re\n",
    "\n",
    "MM = re.compile(\"^Hello\\s\\w+\", re.M)\n",
    "\n",
    "data = \"\"\"Hello World\n",
    "Hello Dahl\n",
    "Hello Moon\n",
    "\"\"\"\n",
    "\n",
    "mm = MM.findall(data)\n",
    "for i in mm:\n",
    "    print(i)"
   ]
  },
  {
   "cell_type": "code",
   "execution_count": 105,
   "metadata": {},
   "outputs": [
    {
     "name": "stdout",
     "output_type": "stream",
     "text": [
      "&#x56A;\n&#106;\n"
     ]
    }
   ],
   "source": [
    "import re\n",
    "\n",
    "charref = re.compile(r\"\"\"\n",
    "&[#] #1st \n",
    "(\n",
    "0[0-7]+\n",
    "|[0-9]+\n",
    "|x[0-9a-fA-F]+\n",
    ")\n",
    ";\n",
    "\"\"\",re.VERBOSE)\n",
    "\n",
    "data = \"&#x56A;\"\n",
    "\n",
    "cr = charref.match(data)\n",
    "\n",
    "if (cr is not None):\n",
    "    print(cr.group())\n",
    "else :\n",
    "    print(cr)\n",
    "    \n",
    "data2 = \"&#106;\"\n",
    "cr2 = charref.match(data2)\n",
    "\n",
    "if (2 is not None):\n",
    "    print(cr2.group())\n",
    "else :\n",
    "    print(cr2)"
   ]
  },
  {
   "cell_type": "code",
   "execution_count": null,
   "metadata": {},
   "outputs": [],
   "source": []
  }
 ],
 "metadata": {
  "kernelspec": {
   "display_name": "Python 2",
   "language": "python",
   "name": "python2"
  },
  "language_info": {
   "codemirror_mode": {
    "name": "ipython",
    "version": 2
   },
   "file_extension": ".py",
   "mimetype": "text/x-python",
   "name": "python",
   "nbconvert_exporter": "python",
   "pygments_lexer": "ipython2",
   "version": "2.7.6"
  }
 },
 "nbformat": 4,
 "nbformat_minor": 0
}
