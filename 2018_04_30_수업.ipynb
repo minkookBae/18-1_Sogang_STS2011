{
 "cells": [
  {
   "cell_type": "code",
   "execution_count": 6,
   "metadata": {
    "collapsed": true
   },
   "outputs": [
    {
     "name": "stdout",
     "output_type": "stream",
     "text": [
      "-3.7651608440352804e-13\n",
      "\n",
      "-1.6350190347069722e-13\n",
      "\n",
      "-1.6351885780427125e-13\n"
     ]
    }
   ],
   "source": [
    "import math\n",
    "\n",
    "print((2000/math.log10(20)*math.sin(2*math.pi)))\n",
    "print()\n",
    "print((2000/math.log(20, 2.718)*math.sin(2*math.pi)))\n",
    "print()\n",
    "print((2000/math.log(20,math.e)*math.sin(2*math.pi)))"
   ]
  },
  {
   "cell_type": "code",
   "execution_count": 35,
   "metadata": {},
   "outputs": [
    {
     "name": "stdout",
     "output_type": "stream",
     "text": [
      "2018:April:30 00:36:26 Monday \n"
     ]
    }
   ],
   "source": [
    "import time\n",
    "\n",
    "t1 = time.gmtime()\n",
    "print(time.strftime(\"%Y:%B:%d %H:%M:%S %A \", t1))\n",
    "\n",
    "import datetime\n",
    "\n",
    "now = datetime.datetime.now()\n",
    "st1 = str(now)\n"
   ]
  },
  {
   "cell_type": "code",
   "execution_count": 39,
   "metadata": {},
   "outputs": [
    {
     "name": "stdout",
     "output_type": "stream",
     "text": [
      "년도 : 2018\n",
      "월 : 04\n",
      "일 : 30\n",
      "요일 : Monday\n"
     ]
    }
   ],
   "source": [
    "from time import localtime,strftime\n",
    "\n",
    "strftime(\"%Y/%m/%d\", localtime())\n",
    "\n",
    "year = strftime(\"%Y\",localtime())\n",
    "month = strftime(\"%m\",localtime())\n",
    "day = strftime(\"%d\",localtime())\n",
    "week = strftime(\"%A\",localtime())\n",
    "\n",
    "print(\"년도 : {}\\n월 : {}\\n일 : {}\\n요일 : {}\".format(year,month,day,week))"
   ]
  },
  {
   "cell_type": "code",
   "execution_count": 43,
   "metadata": {},
   "outputs": [
    {
     "name": "stdout",
     "output_type": "stream",
     "text": [
      "Time gap :  3.0007171630859375\n"
     ]
    }
   ],
   "source": [
    "import time\n",
    "\n",
    "if __name__ == '__main__':\n",
    "    t1 = time.time()\n",
    "    \n",
    "    time.sleep(3)\n",
    "    t2 = time.time()\n",
    "    time_gap = t2 - t1\n",
    "    print(\"Time gap : \",time_gap)"
   ]
  },
  {
   "cell_type": "code",
   "execution_count": 44,
   "metadata": {},
   "outputs": [
    {
     "name": "stdout",
     "output_type": "stream",
     "text": [
      "April 30th Monday 09:55:09\n"
     ]
    }
   ],
   "source": [
    "tsr2 = time.strftime(\"%B %dth %A %H:%M:%S\",time.localtime())\n",
    "print(tsr2)"
   ]
  },
  {
   "cell_type": "code",
   "execution_count": 46,
   "metadata": {},
   "outputs": [
    {
     "name": "stdout",
     "output_type": "stream",
     "text": [
      "[8, 12, 19, 24, 32, 39]\n"
     ]
    }
   ],
   "source": [
    "import random\n",
    "\n",
    "def get_lotto_numbers():\n",
    "    lotto_numbers = []\n",
    "    \n",
    "    while True:\n",
    "        if len(lotto_numbers) == 6:\n",
    "            break\n",
    "        \n",
    "        number = random.randint(1,45)\n",
    "        if number in lotto_numbers:\n",
    "            continue\n",
    "        else:\n",
    "            lotto_numbers.append(number)\n",
    "    \n",
    "    return sorted(lotto_numbers)\n",
    "\n",
    "if __name__ == '__main__':\n",
    "    a = get_lotto_numbers()\n",
    "    print(a)"
   ]
  },
  {
   "cell_type": "code",
   "execution_count": 47,
   "metadata": {},
   "outputs": [
    {
     "name": "stdout",
     "output_type": "stream",
     "text": [
      "nt\n"
     ]
    }
   ],
   "source": [
    "import os\n",
    "print(os.name)"
   ]
  },
  {
   "cell_type": "code",
   "execution_count": 51,
   "metadata": {},
   "outputs": [
    {
     "name": "stdout",
     "output_type": "stream",
     "text": [
      "-3.7651608440352804e-13\n",
      "1.2766526108099888e+48\n",
      "1.0000000000000002\n"
     ]
    }
   ],
   "source": [
    "import math\n",
    "\n",
    "a = 2000\n",
    "b = math.log10(20)\n",
    "c = math.sin(2*math.pi)\n",
    "\n",
    "ans1 = (a/b)*c\n",
    "print(ans1)\n",
    "\n",
    "a = math.pow(3,100)\n",
    "b = math.log10(300)\n",
    "\n",
    "ans2 = a*b\n",
    "print(ans2)\n",
    "\n",
    "a = math.sin(math.pi/4)\n",
    "b = pow(2,(1/2))\n",
    "\n",
    "ans3 = a*b\n",
    "print(ans3)"
   ]
  },
  {
   "cell_type": "code",
   "execution_count": 21,
   "metadata": {},
   "outputs": [
    {
     "name": "stdout",
     "output_type": "stream",
     "text": [
      "paper, paper. 무승부\n"
     ]
    }
   ],
   "source": [
    "import random\n",
    "\n",
    "def make_game():\n",
    "    RSP = [\"rock\",\"scissor\",\"paper\"]\n",
    "    \n",
    "    a = random.randint(0,2)\n",
    "    b = random.randint(0,2)\n",
    "    \n",
    "    c = RSP[a]\n",
    "    d = RSP[b]\n",
    "    \n",
    "    return c,d\n",
    "\n",
    "def win_or_lose(a,b):\n",
    "    if a==b:\n",
    "        print(\"{}, {}. 무승부\".format(a,b))\n",
    "    if a==\"rock\" and b==\"scissor\":\n",
    "        print(\"{}'s win, {}'s lose\".format(a,b))\n",
    "    if a==\"rock\" and b==\"paper\":\n",
    "        print(\"{}'s win, {}'s lose\".format(b,a))\n",
    "    if a==\"scissor\" and b==\"rock\":\n",
    "        print(\"{}'s win, {}'s lose\".format(b,a))\n",
    "    if a==\"scissor\" and b==\"paper\":\n",
    "        print(\"{}'s win, {}'s lose\".format(a,b))\n",
    "    if a==\"paper\" and b==\"rock\":\n",
    "        print(\"{}'s win, {}'s lose\".format(a,b))\n",
    "    if a==\"paper\" and b==\"scissor\":\n",
    "        print(\"{}'s win, {}'s lose\".format(b,a))\n",
    "\n",
    "    \n",
    "if __name__ == '__main__':\n",
    "    a,b = make_game()\n",
    "    win_or_lose(a,b)"
   ]
  },
  {
   "cell_type": "code",
   "execution_count": 12,
   "metadata": {
    "collapsed": true
   },
   "outputs": [],
   "source": []
  },
  {
   "cell_type": "code",
   "execution_count": null,
   "metadata": {
    "collapsed": true
   },
   "outputs": [],
   "source": []
  }
 ],
 "metadata": {
  "kernelspec": {
   "display_name": "Python 3",
   "language": "python",
   "name": "python3"
  },
  "language_info": {
   "codemirror_mode": {
    "name": "ipython",
    "version": 3
   },
   "file_extension": ".py",
   "mimetype": "text/x-python",
   "name": "python",
   "nbconvert_exporter": "python",
   "pygments_lexer": "ipython3",
   "version": "3.6.3"
  }
 },
 "nbformat": 4,
 "nbformat_minor": 1
}
