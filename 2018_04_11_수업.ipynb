{
 "cells": [
  {
   "cell_type": "code",
   "execution_count": 5,
   "metadata": {
    "collapsed": true
   },
   "outputs": [
    {
     "name": "stdout",
     "output_type": "stream",
     "text": [
      "어서오세요\n",
      "집입니다\n"
     ]
    }
   ],
   "source": [
    "if __name__ == '__main__':\n",
    "    fp = open(\"hello.txt\", \"wt\")\n",
    "    fp.writelines(\"어서오세요\\n\")\n",
    "    fp.write(\"집입니다\")\n",
    "    fp.close()\n",
    "    \n",
    "    with open(\"hello.txt\",\"r\") as f:\n",
    "        print(f.read())"
   ]
  },
  {
   "cell_type": "code",
   "execution_count": 1,
   "metadata": {},
   "outputs": [
    {
     "name": "stdout",
     "output_type": "stream",
     "text": [
      "Hello world!\n",
      "Hello C! \n",
      "99\n",
      "99.90\n",
      "서강대학교\n",
      "abcd\n",
      "1234abcd1234abcd\n",
      "\n",
      "1234\n",
      "abcd\n",
      "1234\n",
      "\n"
     ]
    }
   ],
   "source": [
    "if __name__ == '__main__':\n",
    "    fp = open(\"Hello.txt\",\"wt\")\n",
    "    fp.write(\"Hello world!\\n\")\n",
    "    fp.write(\"Hello C! \\n\")\n",
    "    fp.write(\"{}\\n\".format(99))\n",
    "    fp.write(\"%.2f\\n\" %99.9)\n",
    "    fp.write(\"서강대학교\\n\")\n",
    "    a = [\"abcd\",\"1234\"]\n",
    "    fp.write(\"\\n\".join(a))\n",
    "    fp.writelines(a)\n",
    "    b = [\"abcd\\n\",\"1234\\n\"]\n",
    "    fp.write(\"\\n\".join(b))\n",
    "    fp.writelines(b)\n",
    "    fp.close()\n",
    "    \n",
    "    with open(\"Hello.txt\",\"rt\") as f:\n",
    "        print(f.read())"
   ]
  },
  {
   "cell_type": "code",
   "execution_count": null,
   "metadata": {
    "collapsed": true
   },
   "outputs": [],
   "source": []
  },
  {
   "cell_type": "code",
   "execution_count": 2,
   "metadata": {},
   "outputs": [
    {
     "name": "stdout",
     "output_type": "stream",
     "text": [
      "Hello world!\n"
     ]
    }
   ],
   "source": [
    "if __name__ == '__main__':\n",
    "    fp = open(\"Hello.txt\",\"rt\")\n",
    "    print(fp.readline().strip())"
   ]
  },
  {
   "cell_type": "code",
   "execution_count": 7,
   "metadata": {},
   "outputs": [
    {
     "name": "stdout",
     "output_type": "stream",
     "text": [
      "Overwriting FileTest.txt\n"
     ]
    }
   ],
   "source": [
    "%%writefile FileTest.txt\n",
    "Building Machine Learning Systems with Python\n",
    "Python Learning\n",
    "Machine Learning in Action\n",
    "하하"
   ]
  },
  {
   "cell_type": "code",
   "execution_count": 15,
   "metadata": {},
   "outputs": [
    {
     "name": "stdout",
     "output_type": "stream",
     "text": [
      "Building Machine Learning Systems with Python\n",
      "\n",
      "Python Learning\n",
      "\n",
      "Machine Learning in Action\n",
      "\n",
      "하하\n"
     ]
    }
   ],
   "source": [
    "f = open(\"FileTest.txt\", \"rt\", encoding=\"utf-8\")\n",
    "for line in f:\n",
    "    print(line)\n",
    "\n",
    "f.close()"
   ]
  },
  {
   "cell_type": "code",
   "execution_count": 29,
   "metadata": {},
   "outputs": [
    {
     "name": "stdout",
     "output_type": "stream",
     "text": [
      "Overwriting Test.txt\n"
     ]
    }
   ],
   "source": [
    "%%writefile Test.txt\n",
    "2 Alice Paul David Bob\n",
    "4 Cindy Stella Bill\n",
    "1 Henry Jenny Jessica Erin\n",
    "3 John Joe Tom"
   ]
  },
  {
   "cell_type": "code",
   "execution_count": 32,
   "metadata": {},
   "outputs": [
    {
     "name": "stdout",
     "output_type": "stream",
     "text": [
      "{'2': ['Alice', 'Paul', 'David', 'Bob'], '4': ['Cindy', 'Stella', 'Bill'], '1': ['Henry', 'Jenny', 'Jessica', 'Erin'], '3': ['John', 'Joe', 'Tom']}\n"
     ]
    }
   ],
   "source": [
    "f = open(\"Test.txt\", \"rt\", encoding=\"utf-8\")\n",
    "\n",
    "dicts = {}\n",
    "for line in f:\n",
    "    a = line.split()\n",
    "    if a[0] not in dicts.keys():\n",
    "        dicts[a[0]] = a[1:]\n",
    "\n",
    "print(dicts)"
   ]
  },
  {
   "cell_type": "code",
   "execution_count": null,
   "metadata": {
    "collapsed": true
   },
   "outputs": [],
   "source": []
  }
 ],
 "metadata": {
  "kernelspec": {
   "display_name": "Python 3",
   "language": "python",
   "name": "python3"
  },
  "language_info": {
   "codemirror_mode": {
    "name": "ipython",
    "version": 3
   },
   "file_extension": ".py",
   "mimetype": "text/x-python",
   "name": "python",
   "nbconvert_exporter": "python",
   "pygments_lexer": "ipython3",
   "version": "3.6.3"
  }
 },
 "nbformat": 4,
 "nbformat_minor": 1
}
